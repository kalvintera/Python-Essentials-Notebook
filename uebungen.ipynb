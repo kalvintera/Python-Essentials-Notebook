{
 "cells": [
  {
   "cell_type": "markdown",
   "metadata": {},
   "source": [
    "<h1>Python & OMDB API Basics</h1>\n",
    "\n",
    "Ein umfassendes Lernprojekt zur Einführung in Python und die Nutzung der OMDB API. Enthält ein interaktives Jupyter Notebook mit detaillierten Anleitungen und Übungen zur Datenabfrage und -verarbeitung. Ideal für Anfänger und fortgeschrittene Lernende, die praktische Erfahrungen im Umgang mit APIs und Datenanalyse in Python sammeln möchten."
   ]
  },
  {
   "cell_type": "markdown",
   "metadata": {},
   "source": [
    "<h2>HELLO WORLD!</h2>\n",
    "<h3>1.Data Types</h3>"
   ]
  },
  {
   "cell_type": "markdown",
   "metadata": {},
   "source": [
    "**Szenario:** Sie arbeiten für eine Firma, \"CinemaData\", die Daten über Filme sammelt und diese Informationen an verschiedene Kinos und Streaming-Dienste verkauft. Ihre Aufgabe ist es, Daten in verschiedenen Formaten zu verarbeiten und umzuwandeln, um sie für Ihre Kunden nützlich zu machen."
   ]
  },
  {
   "cell_type": "markdown",
   "metadata": {},
   "source": [
    "<h4>a. String (Zeichenkette)<h4>"
   ]
  },
  {
   "cell_type": "code",
   "execution_count": 5,
   "metadata": {},
   "outputs": [
    {
     "name": "stdout",
     "output_type": "stream",
     "text": [
      "Datentyp von der Beschreibung: <class 'str'> \n",
      "\n",
      "35 ist ein <class 'int'>\n",
      "start: 39\n",
      "ende: 56 \n",
      "\n",
      "Regisseur: Christopher Nolan\n",
      "\n",
      "----------------------------\n",
      "\n",
      "Beschreibung-Liste ['Der', 'Film', \"'Inception'\", 'wurde', 'in', '2010', 'von', 'Christopher', 'Nolan', 'gedreht.']\n",
      "\n",
      "Neue Filmbeschreibung: Der Film 'Oppenheimer' wurde in 2023 von Christopher Nolan gedreht.\n"
     ]
    }
   ],
   "source": [
    "# Beispiel: Extrahieren des Regisseurs aus einer Beschreibung -> Das ist ein Kommentar!\n",
    "beschreibung = \"Der Film 'Inception' wurde in 2010 von Christopher Nolan gedreht.\"\n",
    "print(f\"Datentyp von der Beschreibung: {type(beschreibung)} \\n\")\n",
    "# Finde index \n",
    "start = beschreibung.find(\"von\") + 4\n",
    "\n",
    "print(f\"{beschreibung.find('von')} ist ein {type(beschreibung.index('von'))}\")\n",
    "print(f\"start: {start}\")\n",
    "\n",
    "ende = beschreibung.find(\"gedreht\") - 1\n",
    "print(f\"ende: {ende} \\n\")\n",
    "\n",
    "# Man kann einen Bereich von Zeichen zurückgeben, indem Sie die Slice-Syntax verwenden.\n",
    "regisseur = beschreibung[start:ende]\n",
    "print(\"Regisseur:\", regisseur)\n",
    "\n",
    "#--------------------------------\n",
    "print(\"\\n----------------------------\\n\")\n",
    "\n",
    "# Man kann auch aus Zeichenketten Listen erstellen\n",
    "beschreibung_str_list = beschreibung.split(\" \")\n",
    "print(f\"Beschreibung-Liste {beschreibung_str_list}\")\n",
    "\n",
    "# Man kann str mit einem anderen str ersetzen:\n",
    "beschreibung_new_film = beschreibung.replace(\"2010\", \"2023\").replace(\"'Inception'\", \"'Oppenheimer'\")\n",
    "print(f\"\\nNeue Filmbeschreibung: {beschreibung_new_film}\")"
   ]
  },
  {
   "cell_type": "markdown",
   "metadata": {},
   "source": [
    "<h4>b. Zahlen (Integers & Floats)<h4>"
   ]
  },
  {
   "cell_type": "code",
   "execution_count": 6,
   "metadata": {},
   "outputs": [
    {
     "name": "stdout",
     "output_type": "stream",
     "text": [
      "Summe der Bewertungen 30.400000000000002 - Type <class 'float'> \n",
      "\n",
      "Anzahl der Elemente der Liste:4 - Der Typ des Ergebnisses : <class 'int'> \n",
      "\n",
      "Durchschnittliche Bewertung: 7.6000000000000005 type -> <class 'float'> \n",
      "\n",
      "Durchschnittliche Bewertung  mit zwei Dezimalstellen: 7.60 \n",
      "\n",
      "Durchschnittliche Bewertung gerundet: 8\n"
     ]
    }
   ],
   "source": [
    "# Beispiel: Durchschnitt der IMDB-Bewertungen berechnen\n",
    "bewertungen = [7.8, 8.5, 6.9, 7.2]\n",
    "bewertungen_summe = sum(bewertungen)\n",
    "print(f\"Summe der Bewertungen {bewertungen_summe} - Type {type(bewertungen_summe)} \\n\")\n",
    "\n",
    "number_of_elements = len(bewertungen)\n",
    "print(f\"Anzahl der Elemente der Liste:{number_of_elements} - Der Typ des Ergebnisses : {type(number_of_elements)} \\n\")\n",
    "\n",
    "# Durschnitt -> float\n",
    "durchschnitt = bewertungen_summe / number_of_elements\n",
    "\n",
    "print(\"Durchschnittliche Bewertung:\", durchschnitt, \"type ->\", type(durchschnitt), \"\\n\")\n",
    "print(f\"Durchschnittliche Bewertung  mit zwei Dezimalstellen: {durchschnitt:.2f} \\n\" )\n",
    "print(\"Durchschnittliche Bewertung gerundet:\", round(durchschnitt))"
   ]
  },
  {
   "cell_type": "markdown",
   "metadata": {},
   "source": [
    "<h4>c. Boolesche Werte<h4>"
   ]
  },
  {
   "cell_type": "code",
   "execution_count": 7,
   "metadata": {},
   "outputs": [
    {
     "name": "stdout",
     "output_type": "stream",
     "text": [
      "Wurde 'Jurassic Park' im Text erwähnt? \n",
      "Anwort: True\n",
      "Anworttyp -> <class 'bool'>\n"
     ]
    }
   ],
   "source": [
    "filmkatalog_text = \"Bei der gestrigen Vorstandssitzung der 'Global Entertainment Ltd.' wurde intensiv über die Erweiterung unseres Filmkatalogs \\\n",
    "diskutiert. Der CEO betonte die Notwendigkeit, populäre Titel zu akquirieren, um unser Streaming-Angebot attraktiver zu gestalten. \\\n",
    "Es wurde vorgeschlagen, Verhandlungen für die Rechte an Filmen wie 'Jurassic Park', 'Avengers' und 'Titanic' aufzunehmen, \\\n",
    "da diese bei unserem Zielpublikum sehr beliebt sind. Außerdem wurde diskutiert, dass Klassiker wie 'Casablanca' und 'Gone with the Wind' \\\n",
    "das Repertoire bereichern und eine ältere Zielgruppe ansprechen könnten. Ferner wurde in Betracht gezogen, einige Indie-Filme wie 'Moonlight' \\\n",
    "und 'The Grand Budapest Hotel' hinzuzufügen, um die Vielfalt unseres Angebots zu erhöhen. Der Finanzvorstand wies darauf hin, dass die \\\n",
    "Budgetplanung für den Kauf der Filmrechte eng mit dem erwarteten ROI abgestimmt werden muss. Abschließend wurde beschlossen, \\\n",
    "eine detaillierte Marktanalyse durchzuführen, um die Popularität und den potenziellen Wert jedes Filmtitels zu bewerten.\"\n",
    "\n",
    "suche = \"Jurassic Park\"\n",
    "is_film_im_text = suche in filmkatalog_text\n",
    "\n",
    "print(f\"Wurde 'Jurassic Park' im Text erwähnt? \\nAnwort: {is_film_im_text}\")\n",
    "print(f\"Anworttyp -> {type(is_film_im_text)}\")"
   ]
  },
  {
   "cell_type": "markdown",
   "metadata": {},
   "source": [
    "<h3>2. Sammlungen von Datentypen</h3>"
   ]
  },
  {
   "cell_type": "markdown",
   "metadata": {},
   "source": [
    "<h4>a. Tuples</h4>\n",
    "\n",
    "Eine geordnete, unveränderliche Sammlung von Elementen."
   ]
  },
  {
   "cell_type": "code",
   "execution_count": 8,
   "metadata": {},
   "outputs": [
    {
     "name": "stdout",
     "output_type": "stream",
     "text": [
      "Titel: Inception, Jahr: 2010\n"
     ]
    }
   ],
   "source": [
    "# Beispiel: Erstellen und Zugreifen auf ein Tupel\n",
    "film = (\"Inception\", 2010)\n",
    "titel, jahr = film\n",
    "\n",
    "print(f\"Titel: {titel}, Jahr: {jahr}\")\n"
   ]
  },
  {
   "cell_type": "markdown",
   "metadata": {},
   "source": [
    "- <strong>Zugriff auf Tupel-Elemente per Index</strong>\n",
    "\n",
    "\n",
    "Die Indizierung in Python beginnt bei 0, d. h. das erste Element in einem Tupel hat den Index 0, das zweite Element hat den Index 1 usw. Wir können auf Elemente innerhalb eines Tupels zugreifen, indem wir ihren Index in eckigen Klammern nach dem Tupelnamen angeben."
   ]
  },
  {
   "cell_type": "code",
   "execution_count": 9,
   "metadata": {},
   "outputs": [
    {
     "name": "stdout",
     "output_type": "stream",
     "text": [
      "Titel: Inception, Jahr: 2010\n"
     ]
    }
   ],
   "source": [
    "film = (\"Inception\", 2010)\n",
    "titel, jahr = film[0], film[1]\n",
    "\n",
    "print(f\"Titel: {titel}, Jahr: {jahr}\")"
   ]
  },
  {
   "cell_type": "markdown",
   "metadata": {},
   "source": [
    "- <strong>Asterisk (*)-Operator für den Zugriff auf die verbleibenden Elemente in einem Tupel</strong>\n",
    "\n",
    "<p>Mit dem Operator Sternchen (*) kann man auf alle verbleibenden Elemente in einem Tupel nach einem bestimmten Index zugreifen. </p>"
   ]
  },
  {
   "cell_type": "code",
   "execution_count": 10,
   "metadata": {},
   "outputs": [
    {
     "name": "stdout",
     "output_type": "stream",
     "text": [
      "Romantic: Titanic \n",
      "Psychothriller: ['Donnie Darko', 'Fight Club']\n",
      "Action: Die Hard\n"
     ]
    }
   ],
   "source": [
    "films = (\"Titanic\", \"Donnie Darko\", \"Fight Club\", \"Die Hard\")\n",
    "romantic, *psychothriller, action = films\n",
    "# pychothriller ist Werte zwischen dem ersten und dem letzten Element der Sequenz dieser Variablen als Liste\n",
    "print(f\"Romantic: {romantic} \\nPsychothriller: {psychothriller}\\nAction: {action}\")\n"
   ]
  },
  {
   "cell_type": "markdown",
   "metadata": {},
   "source": [
    "- <strong> Zugriff auf Tupel-Elemente mit Slicing </strong>\n",
    "\n",
    "<p>Sobald ein Tupel erstellt wurde, können seine Elemente nicht mehr geändert werden. Sie können aber dennoch auf einzelne Elemente eines Tupels zugreifen, indem Sie Indizierung oder Slicing verwenden.\n",
    "\n",
    "Slicing ist eine Möglichkeit, eine Teilmenge von Elementen aus einem Tupel zu extrahieren, indem man einen Bereich von Indizes angibt. Die Syntax für das Slicing eines Tupels ist ähnlich wie die für das Slicing einer Liste oder einer Zeichenkette: Tupel[Start:Ende:Schritt]. Dabei ist `start` der Index des ersten Elements, das in das Slice aufgenommen werden soll (inklusive), `end` ist der Index des letzten Elements, das in das Slice aufgenommen werden soll (exklusive), und `step` ist die Schrittweite zwischen den Elementen.</p>"
   ]
  },
  {
   "cell_type": "code",
   "execution_count": 11,
   "metadata": {},
   "outputs": [
    {
     "data": {
      "text/plain": [
       "('Donnie Darko', 'Fight Club')"
      ]
     },
     "execution_count": 11,
     "metadata": {},
     "output_type": "execute_result"
    }
   ],
   "source": [
    "psychothriller = films[1:3]\n",
    "psychothriller"
   ]
  },
  {
   "cell_type": "markdown",
   "metadata": {},
   "source": [
    "<h4>b. Liste</h4>\n",
    "\n",
    "- <strong>Zugriff auf Tupel-Elemente per Index</strong>"
   ]
  },
  {
   "cell_type": "code",
   "execution_count": 12,
   "metadata": {},
   "outputs": [
    {
     "name": "stdout",
     "output_type": "stream",
     "text": [
      "Titel: Inception, Jahr: 2010\n",
      "Filme aus dem Jahr 2010: ['Inception']\n"
     ]
    }
   ],
   "source": [
    "# Beispiel: Liste von Filmen eines bestimmten Jahres\n",
    "filme = [(\"Inception\", 2010), (\"Interstellar\", 2014), (\"Blade Runner\", 2017)]\n",
    "titel, jahr = filme[0][0], filme[0][1]\n",
    "print(f\"Titel: {titel}, Jahr: {jahr}\")\n",
    "\n",
    "filme_2010 = [titel for titel, jahr in filme if jahr == 2010]\n",
    "print(\"Filme aus dem Jahr 2010:\", filme_2010)"
   ]
  },
  {
   "cell_type": "markdown",
   "metadata": {},
   "source": [
    "- <strong> Ein neues Element hinzufügen </strong>"
   ]
  },
  {
   "cell_type": "code",
   "execution_count": 13,
   "metadata": {},
   "outputs": [
    {
     "name": "stdout",
     "output_type": "stream",
     "text": [
      "[('Inception', 2010), ('Interstellar', 2014), ('Blade Runner', 2017), (\"Don't Look Up\", 2021)] \n",
      "\n",
      "Neue Film Liste ['Fight Club', ' Little Miss Sunshine', ' Titanic']\n"
     ]
    },
    {
     "data": {
      "text/plain": [
       "[('Inception', 2010),\n",
       " ('Interstellar', 2014),\n",
       " ('Blade Runner', 2017),\n",
       " (\"Don't Look Up\", 2021),\n",
       " ['Fight Club', ' Little Miss Sunshine', ' Titanic']]"
      ]
     },
     "execution_count": 13,
     "metadata": {},
     "output_type": "execute_result"
    }
   ],
   "source": [
    "filme.append((\"Don't Look Up\", 2021))\n",
    "print(str(filme), \"\\n\")\n",
    "\n",
    "# Erstelle eine Liste vom Text/String\n",
    "filme_ohne_jahr_text = \"Fight Club, Little Miss Sunshine, Titanic\"\n",
    "filme_ohne_jahr_list = filme_ohne_jahr_text.strip().split(\",\")\n",
    "print(f\"Neue Film Liste {filme_ohne_jahr_list}\")\n",
    "\n",
    "# Füge \n",
    "filme.append(filme_ohne_jahr_list)\n",
    "filme"
   ]
  },
  {
   "cell_type": "markdown",
   "metadata": {},
   "source": [
    "- <strong>Zugriff auf Liste-Elemente mit Slicing</strong>"
   ]
  },
  {
   "cell_type": "code",
   "execution_count": 14,
   "metadata": {},
   "outputs": [
    {
     "data": {
      "text/plain": [
       "['Fight Club', ' Little Miss Sunshine', ' Titanic']"
      ]
     },
     "execution_count": 14,
     "metadata": {},
     "output_type": "execute_result"
    }
   ],
   "source": [
    "filme_ohne_jahr = filme[4:] \n",
    "# oder\n",
    "filme_ohne_jahr = filme[-1] \n",
    "filme_ohne_jahr"
   ]
  },
  {
   "cell_type": "code",
   "execution_count": 15,
   "metadata": {},
   "outputs": [
    {
     "name": "stdout",
     "output_type": "stream",
     "text": [
      "Es gibt 3 Filme ohne Erscheinungsjahr und diese sind ['Fight Club', ' Little Miss Sunshine', ' Titanic'] \n"
     ]
    }
   ],
   "source": [
    "filme_ohne_jahr\n",
    "print(f\"Es gibt {len(filme_ohne_jahr)} Filme ohne Erscheinungsjahr und diese sind {filme_ohne_jahr} \")"
   ]
  },
  {
   "cell_type": "markdown",
   "metadata": {},
   "source": [
    "<h4>c. Wörterbuch</h4>"
   ]
  },
  {
   "cell_type": "code",
   "execution_count": 16,
   "metadata": {},
   "outputs": [
    {
     "name": "stdout",
     "output_type": "stream",
     "text": [
      "Regisseur: Christopher Nolan\n"
     ]
    }
   ],
   "source": [
    "# Beispiel: Dictionary mit Film-Informationen\n",
    "film_info = {\n",
    "    \"Titel\": \"Inception\",\n",
    "    \"Regisseur\": \"Christopher Nolan\",\n",
    "    \"Jahr\": 2010\n",
    "}\n",
    "print(\"Regisseur:\", film_info[\"Regisseur\"])"
   ]
  },
  {
   "cell_type": "markdown",
   "metadata": {},
   "source": [
    "- <strong>Aktualisierung des Wörterbuchs mit einer Liste</strong>"
   ]
  },
  {
   "cell_type": "code",
   "execution_count": 17,
   "metadata": {},
   "outputs": [
    {
     "data": {
      "text/plain": [
       "{'Titel': 'Inception',\n",
       " 'Regisseur': 'Christopher Nolan',\n",
       " 'Jahr': 2010,\n",
       " 'Schauspieler': ['Leonardo DiCaprio',\n",
       "  'Joseph Gordon-Levitt',\n",
       "  'Elliot Page',\n",
       "  'Tom Hardy']}"
      ]
     },
     "execution_count": 17,
     "metadata": {},
     "output_type": "execute_result"
    }
   ],
   "source": [
    "inception_actors = [\"Leonardo DiCaprio\", \"Joseph Gordon-Levitt\", \"Elliot Page\", \"Tom Hardy\"]\n",
    "film_info[\"Schauspieler\"] = inception_actors\n",
    "film_info"
   ]
  },
  {
   "cell_type": "markdown",
   "metadata": {},
   "source": [
    "- <strong>Aktualisierung des Wörterbuchs mit einem anderen Wörterbuch</strong>"
   ]
  },
  {
   "cell_type": "code",
   "execution_count": 18,
   "metadata": {},
   "outputs": [
    {
     "data": {
      "text/plain": [
       "{'Titel': 'Inception',\n",
       " 'Regisseur': 'Christopher Nolan',\n",
       " 'Jahr': 2010,\n",
       " 'Schauspieler': ['Leonardo DiCaprio',\n",
       "  'Joseph Gordon-Levitt',\n",
       "  'Elliot Page',\n",
       "  'Tom Hardy'],\n",
       " 'Drehbuchautoren': ['Christopher Nolan', 'Wally Phister']}"
      ]
     },
     "execution_count": 18,
     "metadata": {},
     "output_type": "execute_result"
    }
   ],
   "source": [
    "screenwriters = {\"Drehbuchautoren\": [\"Christopher Nolan\", \"Wally Phister\"]}\n",
    "film_info.update(screenwriters)\n",
    "film_info"
   ]
  },
  {
   "cell_type": "markdown",
   "metadata": {},
   "source": [
    "- <strong>Zugriff auf Keys und Values</strong>"
   ]
  },
  {
   "cell_type": "code",
   "execution_count": 19,
   "metadata": {},
   "outputs": [
    {
     "name": "stdout",
     "output_type": "stream",
     "text": [
      "Film Info Keys: dict_keys(['Titel', 'Regisseur', 'Jahr', 'Schauspieler', 'Drehbuchautoren']) \n",
      "\n",
      "Film Info Values: dict_values(['Inception', 'Christopher Nolan', 2010, ['Leonardo DiCaprio', 'Joseph Gordon-Levitt', 'Elliot Page', 'Tom Hardy'], ['Christopher Nolan', 'Wally Phister']]) \n"
     ]
    }
   ],
   "source": [
    "film_info_keys = film_info.keys()\n",
    "print(f\"Film Info Keys: {film_info_keys} \\n\")\n",
    "\n",
    "film_info_values = film_info.values()\n",
    "print(f\"Film Info Values: {film_info_values} \")"
   ]
  },
  {
   "cell_type": "markdown",
   "metadata": {},
   "source": [
    "- <strong> Den Namen eines Schlüssels im Wörterbuch ändern </strong>"
   ]
  },
  {
   "cell_type": "code",
   "execution_count": 20,
   "metadata": {},
   "outputs": [
    {
     "data": {
      "text/plain": [
       "{'Titel': 'Inception',\n",
       " 'Regisseur': 'Christopher Nolan',\n",
       " 'Schauspieler': ['Leonardo DiCaprio',\n",
       "  'Joseph Gordon-Levitt',\n",
       "  'Elliot Page',\n",
       "  'Tom Hardy'],\n",
       " 'Drehbuchautoren': ['Christopher Nolan', 'Wally Phister'],\n",
       " 'Erscheinungsjahr': 2010}"
      ]
     },
     "execution_count": 20,
     "metadata": {},
     "output_type": "execute_result"
    }
   ],
   "source": [
    "# Hinzufügen des neuen Keyss mit dem Wert des alten Schlüssels \n",
    "film_info[\"Erscheinungsjahr\"] = film_info[\"Jahr\"]\n",
    "# Enferne den alten Key\n",
    "del film_info[\"Jahr\"]\n",
    "film_info"
   ]
  },
  {
   "cell_type": "markdown",
   "metadata": {},
   "source": [
    "<h4>d. Menge(Set) </h4>\n",
    "\n",
    "<p>Set ist einer von 4 eingebauten Datentypen in Python, die zum Speichern von Datensammlungen verwendet werden. Die anderen 3 sind List, Tuple und Dictionary, alle mit unterschiedlichen Eigenschaften und Verwendungen.\n",
    "Ein Set ist eine Sammlung, die <strong>ungeordnet, unveränderbar* und unindiziert</strong> ist.</p>"
   ]
  },
  {
   "cell_type": "code",
   "execution_count": 21,
   "metadata": {},
   "outputs": [
    {
     "name": "stdout",
     "output_type": "stream",
     "text": [
      "Einzigartige Genres: {'Thriller', 'Action', 'Drama', 'Sci-Fi'}\n"
     ]
    }
   ],
   "source": [
    "# Beispiel: Eindeutige Sammlung von Genres\n",
    "genres_list = [\"Action\", \"Sci-Fi\", \"Drama\", \"Action\", \"Thriller\"]\n",
    "einzigartige_genres = set(genres_list)\n",
    "print(\"Einzigartige Genres:\", einzigartige_genres)"
   ]
  },
  {
   "cell_type": "markdown",
   "metadata": {},
   "source": [
    "- <strong>ungeordnet</strong>\n",
    "\n",
    "Set-Elemente können bei jeder Verwendung in einer anderen Reihenfolge erscheinen und können nicht über einen Index oder Schlüssel referenziert werden."
   ]
  },
  {
   "cell_type": "code",
   "execution_count": 22,
   "metadata": {},
   "outputs": [
    {
     "data": {
      "text/plain": [
       "{'Action', 'Drama', 'Sci-Fi', 'Thriller'}"
      ]
     },
     "execution_count": 22,
     "metadata": {},
     "output_type": "execute_result"
    }
   ],
   "source": [
    "einzigartige_genres"
   ]
  },
  {
   "cell_type": "code",
   "execution_count": 23,
   "metadata": {},
   "outputs": [
    {
     "name": "stdout",
     "output_type": "stream",
     "text": [
      "{'Thriller', 'Action', 'Drama', 'Sci-Fi'}\n"
     ]
    }
   ],
   "source": [
    "print(einzigartige_genres)"
   ]
  },
  {
   "cell_type": "markdown",
   "metadata": {},
   "source": [
    "- Mengen haben einzigartige Elemente"
   ]
  },
  {
   "cell_type": "code",
   "execution_count": 24,
   "metadata": {},
   "outputs": [
    {
     "data": {
      "text/plain": [
       "{'Action', 'Drama', 'Sci-Fi', 'Thriller'}"
      ]
     },
     "execution_count": 24,
     "metadata": {},
     "output_type": "execute_result"
    }
   ],
   "source": [
    "einzigartige_genres.add(\"Action\")\n",
    "einzigartige_genres"
   ]
  },
  {
   "cell_type": "code",
   "execution_count": 25,
   "metadata": {},
   "outputs": [
    {
     "data": {
      "text/plain": [
       "{'Action', 'Drama', 'Horror', 'Sci-Fi', 'Thriller'}"
      ]
     },
     "execution_count": 25,
     "metadata": {},
     "output_type": "execute_result"
    }
   ],
   "source": [
    "einzigartige_genres.add(\"Horror\")\n",
    "einzigartige_genres"
   ]
  },
  {
   "cell_type": "markdown",
   "metadata": {},
   "source": [
    "> &#128221; Die **try-except-Technik** von Python besteht aus einem try-Block und einem except-Block. Der **try-Block** enthält den Code, der einen Fehler oder eine\n",
    "Ausnahme erzeugen könnte, und der **except-Block** enthält den Code zur Behandlung dieser Fehler oder Ausnahmen."
   ]
  },
  {
   "cell_type": "code",
   "execution_count": 26,
   "metadata": {},
   "outputs": [
    {
     "name": "stdout",
     "output_type": "stream",
     "text": [
      "der Zugriff auf das erste Element der Menge fehlgeschlagen ->  'set' object is not subscriptable\n"
     ]
    }
   ],
   "source": [
    "try:\n",
    "    # Versuch, das erste Element zu wählen\n",
    "    first_element = einzigartige_genres[0]\n",
    "except (Exception, TypeError) as error:\n",
    "    print(f\"der Zugriff auf das erste Element der Menge fehlgeschlagen ->  {error}\")"
   ]
  },
  {
   "cell_type": "markdown",
   "metadata": {},
   "source": [
    "<h3>3. Datenquellen </h3>\n",
    "\n",
    "<h4>a. CSV</h4>"
   ]
  },
  {
   "cell_type": "code",
   "execution_count": 27,
   "metadata": {},
   "outputs": [
    {
     "data": {
      "text/html": [
       "<div>\n",
       "<style scoped>\n",
       "    .dataframe tbody tr th:only-of-type {\n",
       "        vertical-align: middle;\n",
       "    }\n",
       "\n",
       "    .dataframe tbody tr th {\n",
       "        vertical-align: top;\n",
       "    }\n",
       "\n",
       "    .dataframe thead th {\n",
       "        text-align: right;\n",
       "    }\n",
       "</style>\n",
       "<table border=\"1\" class=\"dataframe\">\n",
       "  <thead>\n",
       "    <tr style=\"text-align: right;\">\n",
       "      <th></th>\n",
       "      <th>Position</th>\n",
       "      <th>Const</th>\n",
       "      <th>Created</th>\n",
       "      <th>Modified</th>\n",
       "      <th>Description</th>\n",
       "      <th>Title</th>\n",
       "      <th>URL</th>\n",
       "      <th>Title Type</th>\n",
       "      <th>IMDb Rating</th>\n",
       "      <th>Runtime (mins)</th>\n",
       "      <th>Year</th>\n",
       "      <th>Genres</th>\n",
       "      <th>Num Votes</th>\n",
       "      <th>Release Date</th>\n",
       "      <th>Directors</th>\n",
       "    </tr>\n",
       "  </thead>\n",
       "  <tbody>\n",
       "    <tr>\n",
       "      <th>0</th>\n",
       "      <td>1</td>\n",
       "      <td>tt9603212</td>\n",
       "      <td>2022-01-26</td>\n",
       "      <td>2022-01-26</td>\n",
       "      <td>NaN</td>\n",
       "      <td>Mission: Impossible - Dead Reckoning Part One</td>\n",
       "      <td>https://www.imdb.com/title/tt9603212/</td>\n",
       "      <td>movie</td>\n",
       "      <td>7.8</td>\n",
       "      <td>163.0</td>\n",
       "      <td>2023.0</td>\n",
       "      <td>Action, Adventure, Thriller</td>\n",
       "      <td>179319.0</td>\n",
       "      <td>2023-06-19</td>\n",
       "      <td>Christopher McQuarrie</td>\n",
       "    </tr>\n",
       "    <tr>\n",
       "      <th>1</th>\n",
       "      <td>2</td>\n",
       "      <td>tt10366206</td>\n",
       "      <td>2021-12-29</td>\n",
       "      <td>2021-12-29</td>\n",
       "      <td>NaN</td>\n",
       "      <td>John Wick: Chapter 4</td>\n",
       "      <td>https://www.imdb.com/title/tt10366206/</td>\n",
       "      <td>movie</td>\n",
       "      <td>7.7</td>\n",
       "      <td>169.0</td>\n",
       "      <td>2023.0</td>\n",
       "      <td>Action, Crime, Thriller</td>\n",
       "      <td>294218.0</td>\n",
       "      <td>2023-03-13</td>\n",
       "      <td>Chad Stahelski</td>\n",
       "    </tr>\n",
       "    <tr>\n",
       "      <th>2</th>\n",
       "      <td>3</td>\n",
       "      <td>tt0439572</td>\n",
       "      <td>2022-05-05</td>\n",
       "      <td>2022-05-05</td>\n",
       "      <td>NaN</td>\n",
       "      <td>The Flash</td>\n",
       "      <td>https://www.imdb.com/title/tt0439572/</td>\n",
       "      <td>movie</td>\n",
       "      <td>6.7</td>\n",
       "      <td>144.0</td>\n",
       "      <td>2023.0</td>\n",
       "      <td>Action, Adventure, Fantasy, Sci-Fi</td>\n",
       "      <td>183870.0</td>\n",
       "      <td>2023-06-14</td>\n",
       "      <td>Andy Muschietti</td>\n",
       "    </tr>\n",
       "    <tr>\n",
       "      <th>3</th>\n",
       "      <td>4</td>\n",
       "      <td>tt6791350</td>\n",
       "      <td>2020-05-02</td>\n",
       "      <td>2020-05-02</td>\n",
       "      <td>NaN</td>\n",
       "      <td>Guardians of the Galaxy Vol. 3</td>\n",
       "      <td>https://www.imdb.com/title/tt6791350/</td>\n",
       "      <td>movie</td>\n",
       "      <td>7.9</td>\n",
       "      <td>150.0</td>\n",
       "      <td>2023.0</td>\n",
       "      <td>Action, Adventure, Comedy, Sci-Fi</td>\n",
       "      <td>338812.0</td>\n",
       "      <td>2023-04-19</td>\n",
       "      <td>James Gunn</td>\n",
       "    </tr>\n",
       "    <tr>\n",
       "      <th>4</th>\n",
       "      <td>5</td>\n",
       "      <td>tt9362722</td>\n",
       "      <td>2022-05-05</td>\n",
       "      <td>2022-05-05</td>\n",
       "      <td>NaN</td>\n",
       "      <td>Spider-Man: Across the Spider-Verse</td>\n",
       "      <td>https://www.imdb.com/title/tt9362722/</td>\n",
       "      <td>movie</td>\n",
       "      <td>8.7</td>\n",
       "      <td>140.0</td>\n",
       "      <td>2023.0</td>\n",
       "      <td>Animation, Action, Adventure, Family, Fantasy,...</td>\n",
       "      <td>288922.0</td>\n",
       "      <td>2023-05-31</td>\n",
       "      <td>Justin K. Thompson, Kemp Powers, Joaquim Dos S...</td>\n",
       "    </tr>\n",
       "    <tr>\n",
       "      <th>5</th>\n",
       "      <td>6</td>\n",
       "      <td>tt5537002</td>\n",
       "      <td>2023-04-10</td>\n",
       "      <td>2023-04-10</td>\n",
       "      <td>NaN</td>\n",
       "      <td>Killers of the Flower Moon</td>\n",
       "      <td>https://www.imdb.com/title/tt5537002/</td>\n",
       "      <td>movie</td>\n",
       "      <td>8.0</td>\n",
       "      <td>206.0</td>\n",
       "      <td>2023.0</td>\n",
       "      <td>Crime, Drama, History, Western</td>\n",
       "      <td>74855.0</td>\n",
       "      <td>2023-05-20</td>\n",
       "      <td>Martin Scorsese</td>\n",
       "    </tr>\n",
       "    <tr>\n",
       "      <th>6</th>\n",
       "      <td>7</td>\n",
       "      <td>tt15398776</td>\n",
       "      <td>2021-09-10</td>\n",
       "      <td>2021-09-10</td>\n",
       "      <td>NaN</td>\n",
       "      <td>Oppenheimer</td>\n",
       "      <td>https://www.imdb.com/title/tt15398776/</td>\n",
       "      <td>movie</td>\n",
       "      <td>8.5</td>\n",
       "      <td>180.0</td>\n",
       "      <td>2023.0</td>\n",
       "      <td>Biography, Drama, History</td>\n",
       "      <td>474545.0</td>\n",
       "      <td>2023-07-11</td>\n",
       "      <td>Christopher Nolan</td>\n",
       "    </tr>\n",
       "    <tr>\n",
       "      <th>7</th>\n",
       "      <td>8</td>\n",
       "      <td>tt1462764</td>\n",
       "      <td>2021-11-13</td>\n",
       "      <td>2021-11-13</td>\n",
       "      <td>NaN</td>\n",
       "      <td>Indiana Jones and the Dial of Destiny</td>\n",
       "      <td>https://www.imdb.com/title/tt1462764/</td>\n",
       "      <td>movie</td>\n",
       "      <td>6.6</td>\n",
       "      <td>154.0</td>\n",
       "      <td>2023.0</td>\n",
       "      <td>Action, Adventure, Sci-Fi</td>\n",
       "      <td>138927.0</td>\n",
       "      <td>2023-05-18</td>\n",
       "      <td>James Mangold</td>\n",
       "    </tr>\n",
       "    <tr>\n",
       "      <th>8</th>\n",
       "      <td>9</td>\n",
       "      <td>tt8080204</td>\n",
       "      <td>2023-04-18</td>\n",
       "      <td>2023-04-18</td>\n",
       "      <td>NaN</td>\n",
       "      <td>Hypnotic</td>\n",
       "      <td>https://www.imdb.com/title/tt8080204/</td>\n",
       "      <td>movie</td>\n",
       "      <td>5.5</td>\n",
       "      <td>93.0</td>\n",
       "      <td>2023.0</td>\n",
       "      <td>Action, Mystery, Thriller</td>\n",
       "      <td>24480.0</td>\n",
       "      <td>2023-03-12</td>\n",
       "      <td>Robert Rodriguez</td>\n",
       "    </tr>\n",
       "    <tr>\n",
       "      <th>9</th>\n",
       "      <td>10</td>\n",
       "      <td>tt5090568</td>\n",
       "      <td>2021-09-12</td>\n",
       "      <td>2021-09-12</td>\n",
       "      <td>NaN</td>\n",
       "      <td>Transformers: Rise of the Beasts</td>\n",
       "      <td>https://www.imdb.com/title/tt5090568/</td>\n",
       "      <td>movie</td>\n",
       "      <td>6.1</td>\n",
       "      <td>127.0</td>\n",
       "      <td>2023.0</td>\n",
       "      <td>Action, Adventure, Sci-Fi</td>\n",
       "      <td>86929.0</td>\n",
       "      <td>2023-05-27</td>\n",
       "      <td>Steven Caple Jr.</td>\n",
       "    </tr>\n",
       "  </tbody>\n",
       "</table>\n",
       "</div>"
      ],
      "text/plain": [
       "   Position       Const     Created    Modified  Description  \\\n",
       "0         1   tt9603212  2022-01-26  2022-01-26          NaN   \n",
       "1         2  tt10366206  2021-12-29  2021-12-29          NaN   \n",
       "2         3   tt0439572  2022-05-05  2022-05-05          NaN   \n",
       "3         4   tt6791350  2020-05-02  2020-05-02          NaN   \n",
       "4         5   tt9362722  2022-05-05  2022-05-05          NaN   \n",
       "5         6   tt5537002  2023-04-10  2023-04-10          NaN   \n",
       "6         7  tt15398776  2021-09-10  2021-09-10          NaN   \n",
       "7         8   tt1462764  2021-11-13  2021-11-13          NaN   \n",
       "8         9   tt8080204  2023-04-18  2023-04-18          NaN   \n",
       "9        10   tt5090568  2021-09-12  2021-09-12          NaN   \n",
       "\n",
       "                                           Title  \\\n",
       "0  Mission: Impossible - Dead Reckoning Part One   \n",
       "1                           John Wick: Chapter 4   \n",
       "2                                      The Flash   \n",
       "3                 Guardians of the Galaxy Vol. 3   \n",
       "4            Spider-Man: Across the Spider-Verse   \n",
       "5                     Killers of the Flower Moon   \n",
       "6                                    Oppenheimer   \n",
       "7          Indiana Jones and the Dial of Destiny   \n",
       "8                                       Hypnotic   \n",
       "9               Transformers: Rise of the Beasts   \n",
       "\n",
       "                                      URL Title Type  IMDb Rating  \\\n",
       "0   https://www.imdb.com/title/tt9603212/      movie          7.8   \n",
       "1  https://www.imdb.com/title/tt10366206/      movie          7.7   \n",
       "2   https://www.imdb.com/title/tt0439572/      movie          6.7   \n",
       "3   https://www.imdb.com/title/tt6791350/      movie          7.9   \n",
       "4   https://www.imdb.com/title/tt9362722/      movie          8.7   \n",
       "5   https://www.imdb.com/title/tt5537002/      movie          8.0   \n",
       "6  https://www.imdb.com/title/tt15398776/      movie          8.5   \n",
       "7   https://www.imdb.com/title/tt1462764/      movie          6.6   \n",
       "8   https://www.imdb.com/title/tt8080204/      movie          5.5   \n",
       "9   https://www.imdb.com/title/tt5090568/      movie          6.1   \n",
       "\n",
       "   Runtime (mins)    Year                                             Genres  \\\n",
       "0           163.0  2023.0                        Action, Adventure, Thriller   \n",
       "1           169.0  2023.0                            Action, Crime, Thriller   \n",
       "2           144.0  2023.0                 Action, Adventure, Fantasy, Sci-Fi   \n",
       "3           150.0  2023.0                  Action, Adventure, Comedy, Sci-Fi   \n",
       "4           140.0  2023.0  Animation, Action, Adventure, Family, Fantasy,...   \n",
       "5           206.0  2023.0                     Crime, Drama, History, Western   \n",
       "6           180.0  2023.0                          Biography, Drama, History   \n",
       "7           154.0  2023.0                          Action, Adventure, Sci-Fi   \n",
       "8            93.0  2023.0                          Action, Mystery, Thriller   \n",
       "9           127.0  2023.0                          Action, Adventure, Sci-Fi   \n",
       "\n",
       "   Num Votes Release Date                                          Directors  \n",
       "0   179319.0   2023-06-19                              Christopher McQuarrie  \n",
       "1   294218.0   2023-03-13                                     Chad Stahelski  \n",
       "2   183870.0   2023-06-14                                    Andy Muschietti  \n",
       "3   338812.0   2023-04-19                                         James Gunn  \n",
       "4   288922.0   2023-05-31  Justin K. Thompson, Kemp Powers, Joaquim Dos S...  \n",
       "5    74855.0   2023-05-20                                    Martin Scorsese  \n",
       "6   474545.0   2023-07-11                                  Christopher Nolan  \n",
       "7   138927.0   2023-05-18                                      James Mangold  \n",
       "8    24480.0   2023-03-12                                   Robert Rodriguez  \n",
       "9    86929.0   2023-05-27                                   Steven Caple Jr.  "
      ]
     },
     "execution_count": 27,
     "metadata": {},
     "output_type": "execute_result"
    }
   ],
   "source": [
    "import pandas as pd\n",
    "from config import Config\n",
    "\n",
    "\n",
    "config = Config()\n",
    "movie_csv_path = config.input_path.joinpath(\"2023_Movie_List.csv\")\n",
    "movie_csv = pd.read_csv(movie_csv_path, sep=\",\")\n",
    "movie_csv.head(10)"
   ]
  },
  {
   "cell_type": "markdown",
   "metadata": {},
   "source": [
    "<h4>b. JSON (JavaScript Object Notation)</h4>\n",
    "\n",
    "- JSON ist ein **Textformat**, das für den Datenaustausch zwischen verschiedenen Sprachen und Plattformen verwendet wird.\n",
    "- JSON-Objekte ähneln Python-Dictionaries, aber sie sind eigentlich **Strings**.\n",
    "> Ein Python-Dictionary wird nicht als String dargestellt, sondern als eine Sammlung von Schlüssel-Wert-Paaren, z.B. {\"name\": \"John\", \"age\": 30}. "
   ]
  },
  {
   "cell_type": "markdown",
   "metadata": {},
   "source": [
    "**REQUESTS SYNTAX MIT PARAMS**\n",
    "\n",
    "> <span style='font-size:28px;'>&#128073;</span><a href=\"https://requests.readthedocs.io/en/latest/user/quickstart/\"> Request Dokumentation </a>"
   ]
  },
  {
   "cell_type": "code",
   "execution_count": 28,
   "metadata": {},
   "outputs": [
    {
     "data": {
      "image/png": "[encoded data removed]",
      "text/plain": [
       "<IPython.core.display.Image object>"
      ]
     },
     "execution_count": 28,
     "metadata": {},
     "output_type": "execute_result"
    }
   ],
   "source": [
    "\n",
    "from IPython import display\n",
    "display.Image(config.project_path.joinpath(\"img\", \"requests_params.png\"))"
   ]
  },
  {
   "cell_type": "code",
   "execution_count": 29,
   "metadata": {},
   "outputs": [
    {
     "name": "stdout",
     "output_type": "stream",
     "text": [
      "Typ nach response.json(): <class 'dict'>\n",
      "Typ nach json.dumps(): <class 'str'> \n",
      "\n",
      "{\"Title\": \"Inception\", \"Year\": \"2010\", \"Rated\": \"PG-13\", \"Released\": \"16 Jul 2010\", \"Runtime\": \"148 min\", \"Genre\": \"Action, Adventure, Sci-Fi\", \"Director\": \"Christopher Nolan\", \"Writer\": \"Christopher Nolan\", \"Actors\": \"Leonardo DiCaprio, Joseph Gordon-Levitt, Elliot Page\", \"Plot\": \"A thief who steals corporate secrets through the use of dream-sharing technology is given the inverse task of planting an idea into the mind of a C.E.O., but his tragic past may doom the project and his team to disaster.\", \"Language\": \"English, Japanese, French\", \"Country\": \"United States, United Kingdom\", \"Awards\": \"Won 4 Oscars. 159 wins & 220 nominations total\", \"Poster\": \"https://m.media-amazon.com/images/M/MV5BMjAxMzY3NjcxNF5BMl5BanBnXkFtZTcwNTI5OTM0Mw@@._V1_SX300.jpg\", \"Ratings\": [{\"Source\": \"Internet Movie Database\", \"Value\": \"8.8/10\"}, {\"Source\": \"Rotten Tomatoes\", \"Value\": \"87%\"}, {\"Source\": \"Metacritic\", \"Value\": \"74/100\"}], \"Metascore\": \"74\", \"imdbRating\": \"8.8\", \"imdbVotes\": \"2,482,798\", \"imdbID\": \"tt1375666\", \"Type\": \"movie\", \"DVD\": \"20 Jun 2013\", \"BoxOffice\": \"$292,587,330\", \"Production\": \"N/A\", \"Website\": \"N/A\", \"Response\": \"True\"} \n",
      "\n",
      "{'Title': 'Inception', 'Year': '2010', 'Rated': 'PG-13', 'Released': '16 Jul 2010', 'Runtime': '148 min', 'Genre': 'Action, Adventure, Sci-Fi', 'Director': 'Christopher Nolan', 'Writer': 'Christopher Nolan', 'Actors': 'Leonardo DiCaprio, Joseph Gordon-Levitt, Elliot Page', 'Plot': 'A thief who steals corporate secrets through the use of dream-sharing technology is given the inverse task of planting an idea into the mind of a C.E.O., but his tragic past may doom the project and his team to disaster.', 'Language': 'English, Japanese, French', 'Country': 'United States, United Kingdom', 'Awards': 'Won 4 Oscars. 159 wins & 220 nominations total', 'Poster': 'https://m.media-amazon.com/images/M/MV5BMjAxMzY3NjcxNF5BMl5BanBnXkFtZTcwNTI5OTM0Mw@@._V1_SX300.jpg', 'Ratings': [{'Source': 'Internet Movie Database', 'Value': '8.8/10'}, {'Source': 'Rotten Tomatoes', 'Value': '87%'}, {'Source': 'Metacritic', 'Value': '74/100'}], 'Metascore': '74', 'imdbRating': '8.8', 'imdbVotes': '2,482,798', 'imdbID': 'tt1375666', 'Type': 'movie', 'DVD': '20 Jun 2013', 'BoxOffice': '$292,587,330', 'Production': 'N/A', 'Website': 'N/A', 'Response': 'True'}\n",
      "\n",
      "\n",
      " Json-Objekt in einen Pandas-Datenframe konvertieren:\n",
      " \n"
     ]
    },
    {
     "data": {
      "text/html": [
       "<div>\n",
       "<style scoped>\n",
       "    .dataframe tbody tr th:only-of-type {\n",
       "        vertical-align: middle;\n",
       "    }\n",
       "\n",
       "    .dataframe tbody tr th {\n",
       "        vertical-align: top;\n",
       "    }\n",
       "\n",
       "    .dataframe thead th {\n",
       "        text-align: right;\n",
       "    }\n",
       "</style>\n",
       "<table border=\"1\" class=\"dataframe\">\n",
       "  <thead>\n",
       "    <tr style=\"text-align: right;\">\n",
       "      <th></th>\n",
       "      <th>Title</th>\n",
       "      <th>Year</th>\n",
       "      <th>Rated</th>\n",
       "      <th>Released</th>\n",
       "      <th>Runtime</th>\n",
       "      <th>Genre</th>\n",
       "      <th>Director</th>\n",
       "      <th>Writer</th>\n",
       "      <th>Actors</th>\n",
       "      <th>Plot</th>\n",
       "      <th>...</th>\n",
       "      <th>Metascore</th>\n",
       "      <th>imdbRating</th>\n",
       "      <th>imdbVotes</th>\n",
       "      <th>imdbID</th>\n",
       "      <th>Type</th>\n",
       "      <th>DVD</th>\n",
       "      <th>BoxOffice</th>\n",
       "      <th>Production</th>\n",
       "      <th>Website</th>\n",
       "      <th>Response</th>\n",
       "    </tr>\n",
       "  </thead>\n",
       "  <tbody>\n",
       "    <tr>\n",
       "      <th>0</th>\n",
       "      <td>Inception</td>\n",
       "      <td>2010</td>\n",
       "      <td>PG-13</td>\n",
       "      <td>16 Jul 2010</td>\n",
       "      <td>148 min</td>\n",
       "      <td>Action, Adventure, Sci-Fi</td>\n",
       "      <td>Christopher Nolan</td>\n",
       "      <td>Christopher Nolan</td>\n",
       "      <td>Leonardo DiCaprio, Joseph Gordon-Levitt, Ellio...</td>\n",
       "      <td>A thief who steals corporate secrets through t...</td>\n",
       "      <td>...</td>\n",
       "      <td>74</td>\n",
       "      <td>8.8</td>\n",
       "      <td>2,482,798</td>\n",
       "      <td>tt1375666</td>\n",
       "      <td>movie</td>\n",
       "      <td>20 Jun 2013</td>\n",
       "      <td>$292,587,330</td>\n",
       "      <td>N/A</td>\n",
       "      <td>N/A</td>\n",
       "      <td>True</td>\n",
       "    </tr>\n",
       "  </tbody>\n",
       "</table>\n",
       "<p>1 rows × 25 columns</p>\n",
       "</div>"
      ],
      "text/plain": [
       "       Title  Year  Rated     Released  Runtime                      Genre  \\\n",
       "0  Inception  2010  PG-13  16 Jul 2010  148 min  Action, Adventure, Sci-Fi   \n",
       "\n",
       "            Director             Writer  \\\n",
       "0  Christopher Nolan  Christopher Nolan   \n",
       "\n",
       "                                              Actors  \\\n",
       "0  Leonardo DiCaprio, Joseph Gordon-Levitt, Ellio...   \n",
       "\n",
       "                                                Plot  ... Metascore  \\\n",
       "0  A thief who steals corporate secrets through t...  ...        74   \n",
       "\n",
       "  imdbRating  imdbVotes     imdbID   Type          DVD     BoxOffice  \\\n",
       "0        8.8  2,482,798  tt1375666  movie  20 Jun 2013  $292,587,330   \n",
       "\n",
       "  Production Website Response  \n",
       "0        N/A     N/A     True  \n",
       "\n",
       "[1 rows x 25 columns]"
      ]
     },
     "execution_count": 29,
     "metadata": {},
     "output_type": "execute_result"
    }
   ],
   "source": [
    "import requests\n",
    "from io import StringIO\n",
    "import json\n",
    "import pandas as pd\n",
    "\n",
    "# API-Aufruf mit requests, um Daten im JSON-Format zu erhalten\n",
    "parameters = {\"t\": \"Inception\", \"apikey\": config.api_key}\n",
    "response = requests.get(config.api_url, params=parameters)\n",
    "\n",
    "if response.status_code == 200:\n",
    "    # Deserialisierung: Umwandlung von JSON in ein Python-Dictionary\n",
    "    inception_info_dict = response.json()\n",
    "    # response_dict = json.loads(response.content)\n",
    "    print(\"Typ nach response.json():\", type(inception_info_dict))\n",
    "    \n",
    "    # Serialisierung: Umwandlung des Python-Dictionary in einen JSON-String\n",
    "    inception_info_json = json.dumps(inception_info_dict)\n",
    "    print(\"Typ nach json.dumps():\", type(inception_info_json), \"\\n\")\n",
    "    \n",
    "print(inception_info_json, \"\\n\")\n",
    "print(inception_info_dict)\n",
    "\n",
    "\n",
    "print(\"\\n\\n Json-Objekt in einen Pandas-Datenframe konvertieren:\\n \")\n",
    "df_from_json = pd.read_json(StringIO(inception_info_json), orient='index').transpose()\n",
    "df_from_json"
   ]
  },
  {
   "cell_type": "markdown",
   "metadata": {},
   "source": [
    "> **StringIO(inception_info_json):** StringIO ist ein Klasse aus dem io-Modul in Python, die einen String als Datei behandelt. Das ist nützlich, weil pandas.read_json() normalerweise eine Datei oder einen Dateipfad erwartet.\n",
    "> \n",
    "> **orient='index':** Dieser Parameter gibt an, wie das JSON-Objekt interpretiert werden soll. orient='index' bedeutet, dass das JSON-Objekt als ein Dictionary betrachtet wird, bei dem die Schlüssel als Index des DataFrames behandelt werden sollen.\n",
    "\n",
    ">**.transpose():** Diese Methode vertauscht die Zeilen und Spalten des DataFrames. Nach der Anwendung von read_json mit orient='index' erhalten wir einen DataFrame, bei dem die JSON-Schlüssel als Zeilenindizes und die Werte als einzelne Spalte angezeigt werden. .transpose() tauscht Zeilen und Spalten, sodass die Schlüssel zu Spaltenköpfen werden und die Werte die Daten in der ersten Zeile des DataFrames bilden."
   ]
  },
  {
   "cell_type": "code",
   "execution_count": 30,
   "metadata": {},
   "outputs": [
    {
     "name": "stdout",
     "output_type": "stream",
     "text": [
      "\n",
      "Ein Wörterbuch in einen Pandas-Datenframe konvertieren: \n"
     ]
    },
    {
     "data": {
      "text/html": [
       "<div>\n",
       "<style scoped>\n",
       "    .dataframe tbody tr th:only-of-type {\n",
       "        vertical-align: middle;\n",
       "    }\n",
       "\n",
       "    .dataframe tbody tr th {\n",
       "        vertical-align: top;\n",
       "    }\n",
       "\n",
       "    .dataframe thead th {\n",
       "        text-align: right;\n",
       "    }\n",
       "</style>\n",
       "<table border=\"1\" class=\"dataframe\">\n",
       "  <thead>\n",
       "    <tr style=\"text-align: right;\">\n",
       "      <th></th>\n",
       "      <th>Title</th>\n",
       "      <th>Year</th>\n",
       "      <th>Rated</th>\n",
       "      <th>Released</th>\n",
       "      <th>Runtime</th>\n",
       "      <th>Genre</th>\n",
       "      <th>Director</th>\n",
       "      <th>Writer</th>\n",
       "      <th>Actors</th>\n",
       "      <th>Plot</th>\n",
       "      <th>...</th>\n",
       "      <th>Metascore</th>\n",
       "      <th>imdbRating</th>\n",
       "      <th>imdbVotes</th>\n",
       "      <th>imdbID</th>\n",
       "      <th>Type</th>\n",
       "      <th>DVD</th>\n",
       "      <th>BoxOffice</th>\n",
       "      <th>Production</th>\n",
       "      <th>Website</th>\n",
       "      <th>Response</th>\n",
       "    </tr>\n",
       "  </thead>\n",
       "  <tbody>\n",
       "    <tr>\n",
       "      <th>0</th>\n",
       "      <td>Inception</td>\n",
       "      <td>2010</td>\n",
       "      <td>PG-13</td>\n",
       "      <td>16 Jul 2010</td>\n",
       "      <td>148 min</td>\n",
       "      <td>Action, Adventure, Sci-Fi</td>\n",
       "      <td>Christopher Nolan</td>\n",
       "      <td>Christopher Nolan</td>\n",
       "      <td>Leonardo DiCaprio, Joseph Gordon-Levitt, Ellio...</td>\n",
       "      <td>A thief who steals corporate secrets through t...</td>\n",
       "      <td>...</td>\n",
       "      <td>74</td>\n",
       "      <td>8.8</td>\n",
       "      <td>2,482,798</td>\n",
       "      <td>tt1375666</td>\n",
       "      <td>movie</td>\n",
       "      <td>20 Jun 2013</td>\n",
       "      <td>$292,587,330</td>\n",
       "      <td>N/A</td>\n",
       "      <td>N/A</td>\n",
       "      <td>True</td>\n",
       "    </tr>\n",
       "  </tbody>\n",
       "</table>\n",
       "<p>1 rows × 25 columns</p>\n",
       "</div>"
      ],
      "text/plain": [
       "       Title  Year  Rated     Released  Runtime                      Genre  \\\n",
       "0  Inception  2010  PG-13  16 Jul 2010  148 min  Action, Adventure, Sci-Fi   \n",
       "\n",
       "            Director             Writer  \\\n",
       "0  Christopher Nolan  Christopher Nolan   \n",
       "\n",
       "                                              Actors  \\\n",
       "0  Leonardo DiCaprio, Joseph Gordon-Levitt, Ellio...   \n",
       "\n",
       "                                                Plot  ... Metascore  \\\n",
       "0  A thief who steals corporate secrets through t...  ...        74   \n",
       "\n",
       "  imdbRating  imdbVotes     imdbID   Type          DVD     BoxOffice  \\\n",
       "0        8.8  2,482,798  tt1375666  movie  20 Jun 2013  $292,587,330   \n",
       "\n",
       "  Production Website Response  \n",
       "0        N/A     N/A     True  \n",
       "\n",
       "[1 rows x 25 columns]"
      ]
     },
     "execution_count": 30,
     "metadata": {},
     "output_type": "execute_result"
    }
   ],
   "source": [
    "print(\"\\nEin Wörterbuch in einen Pandas-Datenframe konvertieren: \\n\")\n",
    "df_from_dict = pd.DataFrame([inception_info_dict])\n",
    "df_from_dict.head(10)"
   ]
  },
  {
   "cell_type": "markdown",
   "metadata": {},
   "source": [
    "<h4>b. XML (eXtensible Markup Language)</h4>\n",
    "\n",
    "XML ist ein flexibles Textformat, das häufig für den Austausch von Daten über das Internet verwendet wird. \n",
    "Es ähnelt HTML, ist jedoch strenger strukturiert und ermöglicht die Definition eigener Tags. \n",
    "XML wird oft für Web-Feeds, Konfigurationsdateien und Datenübertragung zwischen verschiedenen Systemen eingesetzt.\n",
    "\n",
    "**Warum XML?**\n",
    "XML ist menschen- und maschinenlesbar, was es ideal für Datenübertragung und -speicherung macht. Es bietet eine strukturierte und standardisierte Methode, um Daten zu organisieren und auszutauschen. Durch seine Flexibilität kann XML für eine Vielzahl von Anwendungen in verschiedenen Branchen verwendet werden.\n",
    "\n",
    "**Datenquelle und Anwendung im Code**\n",
    "Diese Datenquelle bietet Informationen zu verschiedenen Veranstaltungen in Wien und ist im XML-Format verfügbar.\n",
    "Der RSS-Feed von der offiziellen Website der Stadt Wien bietet einen praktischen Überblick über kulturelle und gesellschaftliche Ereignisse.\n",
    "\n",
    "> <span style='font-size:28px;'>&#128073;</span> <a href=\"https://www.wien.gv.at/vadb/internet/AdvPrSrv.asp?Layout=VAErgebnis_neu&Type=R&GANZJAEHRIG=ja&HKAT=&KAT=&UNTKATVON=&HAUPTKATEGORIEN=74&KATEGORIE_ID=83&brckat=&brckatu=&suchbegriff=&WORT1=&WORT2=&SA=&hmwd=d&DATS=E\"> Wien.gv.at Link hier </a>"
   ]
  },
  {
   "cell_type": "code",
   "execution_count": 31,
   "metadata": {},
   "outputs": [
    {
     "data": {
      "image/png": "[encoded data removed]",
      "text/plain": [
       "<IPython.core.display.Image object>"
      ]
     },
     "execution_count": 31,
     "metadata": {},
     "output_type": "execute_result"
    }
   ],
   "source": [
    "from config import Config\n",
    "config = Config()\n",
    "\n",
    "from IPython import display\n",
    "display.Image(config.project_path.joinpath(\"img\", \"events_rss.png\"))"
   ]
  },
  {
   "cell_type": "markdown",
   "metadata": {},
   "source": [
    "**Was macht dieser Code**\n",
    "- HTTP-Anfrage: Der Code sendet eine Anfrage an den Server, um den XML-basierten RSS-Feed zu erhalten.\n",
    "\n",
    "- XML-Verarbeitung: Die BeautifulSoup-Bibliothek wird eingesetzt, um den XML-Inhalt zu verarbeiten. \n",
    "Dies hilft beim Verständnis der Struktur des Feeds und erleichtert die Extraktion spezifischer Daten.\n",
    "\n",
    "**Formatierte Ausgabe:** Mit der prettify()-Methode wird der XML-Inhalt formatiert ausgegeben, was die Lesbarkeit verbessert."
   ]
  },
  {
   "cell_type": "code",
   "execution_count": 32,
   "metadata": {},
   "outputs": [
    {
     "name": "stdout",
     "output_type": "stream",
     "text": [
      "<?xml version=\"1.0\" encoding=\"utf-8\"?>\n",
      "<rss version=\"2.0\" xmlns:cal=\"http://www.w3.org/2002/12/cal#\" xmlns:dc=\"http://purl.org/dc/elements/1.1/\" xmlns:dcterms=\"http://purl.org/dc/terms/\" xmlns:georss=\"http://www.georss.org/georss/\" xmlns:media=\"http://search.yahoo.com/mrss/\" xmlns:vcard=\"http://www.w3.org/2006/vcard/ns\">\n",
      " <channel>\n",
      "  <title>\n",
      "   Veranstaltungen vom 15.11.2023 bis 15.11.2024 im 09. Bezirk\n",
      "  </title>\n",
      "  <link>\n",
      "   https://www.wien.gv.at/vadb/internet/AdvPrSrv.asp?Layout=VAErgebnis_neu&amp;Type=S&amp;ganzjaehrig=ja\n",
      "  </link>\n",
      "  <description>\n",
      "   Veranstaltungen vom 15.11.2023 bis 15.11.2024 im 09. Bezirk\n",
      "  </description>\n",
      "  <lastBuildDate>\n",
      "   Di,05 Dez 2023 16:03:05 GMT\n",
      "  </lastBuildDate>\n",
      "  <ManagingEditor>\n",
      "   event@ma55.wien.gv.at\n",
      "  </ManagingEditor>\n",
      "  <language>\n",
      "   de-AT\n",
      "  </language>\n",
      "  <dc:license>\n",
      "   https://data.wien.gv.at/nutzungsbedingungen\n",
      "  </dc:license>\n",
      "  <dc:rightsHolder>\n",
      "   Stadt Wien\n",
      "  </dc:rightsHolder>\n",
      "  <item>\n",
      "   <title>\n",
      "    Swinging Christmas\n",
      "   </title>\n",
      "   <link>\n",
      "    https://www.wien.gv.at/vadb/internet/AdvPrSrv.asp?Layout=VAErgebnis_neu&amp;Type=K&amp;ID=498066&amp;return=\n",
      "   </link>\n",
      "   <guid isPermaLink=\"false\">\n",
      "    https://www.wien.gv.at/vadb/internet/AdvPrSrv.asp?Layout=VAErgebnis_neu&amp;Type=K&amp;ID=498066&amp;return=\n",
      "   </guid>\n",
      "   <description>\n",
      "    &lt;p&gt;13.12.2023 bis 14.12.2023&lt;br /&gt;\n",
      "19:30 bis 21:30&lt;br /&gt;\n",
      "Theater-Center-Forum&lt;br /&gt;&lt;/p&gt;­&lt;p&gt;Michael Jedlicka + Band haben sich wieder zusammengefunden und präsentieren Ihnen ein Weihnachtskonzert der Extraklasse. Jedlicka ist auch Spezialist für Ludwig Hirsch Interpretationen, die auch in diesem Programm nicht fehlen werden.\n",
      "\n",
      "\n",
      "\n",
      "\n",
      "\n",
      "\n",
      "\n",
      "\n",
      "\n",
      "\n",
      "&lt;/p&gt;\n",
      "&lt;p&gt;ab 29,50 Euro&lt;/p&gt;\n",
      "   </description>\n",
      "   <category/>\n",
      "   <dc:subject/>\n",
      "   <cal:dtstart>\n",
      "    2023-12-13T00:00:00+01:00\n",
      "   </cal:dtstart>\n",
      "   <cal:dtend>\n",
      "    2023-12-14T00:00:00+01:00\n",
      "   </cal:dtend>\n",
      "   <cal:byday>\n",
      "    Mi, Do\n",
      "   </cal:byday>\n",
      "   <cal:byhour>\n",
      "    19\n",
      "   </cal:byhour>\n",
      "   <cal:byminute>\n",
      "    30\n",
      "   </cal:byminute>\n",
      "   <cal:location>\n",
      "    <vcard:fn>\n",
      "     Theater-Center-Forum\n",
      "    </vcard:fn>\n",
      "    <vcard:street-address>\n",
      "     Porzellangasse 50/\n",
      "    </vcard:street-address>\n",
      "    <vcard:postal-code>\n",
      "     1090\n",
      "    </vcard:postal-code>\n",
      "    <vcard:tel>\n",
      "     +43 1 310 46 46\n",
      "    </vcard:tel>\n",
      "    <vcard:fax/>\n",
      "    <vcard:email/>\n",
      "    <vcard:url/>\n",
      "   </cal:location>\n",
      "   <cal:organizer>\n",
      "    <vcard:fn>\n",
      "     Theater-Center-Forum\n",
      "    </vcard:fn>\n",
      "    <vcard:street-address>\n",
      "     Porzellangasse 50/\n",
      "    </vcard:street-address>\n",
      "    <vcard:postal-code>\n",
      "     1090\n",
      "    </vcard:postal-code>\n",
      "    <vcard:tel>\n",
      "     +43 1 310 46 46\n",
      "    </vcard:tel>\n",
      "    <vcard:fax/>\n",
      "    <vcard:email/>\n",
      "    <vcard:url/>\n",
      "   </cal:organizer>\n",
      "   <vcard:email/>\n",
      "   <georss:point>\n",
      "    2202.18 342826.96\n",
      "   </georss:point>\n",
      "   <dcterms:created>\n",
      "    2023-10-09T09:45:00\n",
      "   </dcterms:created>\n",
      "   <dc:title>\n",
      "    Theater-Center-Forum | Theater-Center-Forum­\n",
      "   </dc:title>\n",
      "   <dc:date>\n",
      "    2023-12-13T19:30:00+00:00\n",
      "   </dc:date>\n",
      "   <dc:relation>\n",
      "    2023-12-14T21:30:00 | Mi, Do\n",
      "   </dc:relation>\n",
      "   <dc:description>\n",
      "    https://www.wien.gv.at/vadb/internet/AdvPrSrv.asp?Layout=ical-vadb&amp;Type=K&amp;ID=498066\n",
      "   </dc:description>\n",
      "   <dcterms:modified>\n",
      "    2023-10-09T10:09:00\n",
      "   </dcterms:modified>\n",
      "   <dc:language>\n",
      "    de-AT\n",
      "   </dc:language>\n",
      "   <dc:rightsHolder>\n",
      "    Stadt Wien\n",
      "   </dc:rightsHolder>\n",
      "   <dc:license>\n",
      "    https://data.wien.gv.at/nutzungsbedingungen\n",
      "   </dc:license>\n",
      "   <dc:creator>\n",
      "    Redaktion Veranstaltungsdatenbank (Magistratsabteilung 55)\n",
      "   </dc:creator>\n",
      "  </item>\n",
      "  <item>\n",
      "   <title>\n",
      "    Santa Claus is coming to town\n",
      "   </title>\n",
      "   <link>\n",
      "    https://www.wien.gv.at/vadb/internet/AdvPrSrv.asp?Layout=VAErgebnis_neu&amp;Type=K&amp;ID=498067&amp;return=\n",
      "   </link>\n",
      "   <guid isPermaLink=\"false\">\n",
      "    https://www.wien.gv.at/vadb/internet/AdvPrSrv.asp?Layout=VAErgebnis_neu&amp;Type=K&amp;ID=498067&amp;return=\n",
      "   </guid>\n",
      "   <description>\n",
      "    &lt;p&gt;15.12.2023&lt;br /&gt;\n",
      "19:30 bis 21:30&lt;br /&gt;\n",
      "Theater-Center-Forum&lt;br /&gt;&lt;/p&gt;­&lt;p&gt;Bing Crosby, Frank Sinatra, Trude Marzik, Anton Krutisch und viele andere wecken die Lust auf Punsch, Kekse, ein knisterndes Feuer im Kamin und verkürzen die Wartezeit auf das Christkind! Susanne Marik und Béla Fischer bringen Sie garantiert in beste Weihnachtsstimmung.\n",
      "\n",
      "\n",
      "\n",
      "\n",
      "\n",
      "\n",
      "\n",
      "\n",
      "\n",
      "\n",
      "\n",
      "\n",
      "&lt;/p&gt;\n",
      "&lt;p&gt;ab 29,50 Euro&lt;/p&gt;\n",
      "   </description>\n",
      "   <category/>\n",
      "   <dc:subject/>\n",
      "   <cal:dtstart>\n",
      "    2023-12-15T00:00:00+01:00\n",
      "   </cal:dtstart>\n",
      "   <cal:dtend>\n",
      "    T00:00:00+01:00\n",
      "   </cal:dtend>\n",
      "   <cal:byday>\n",
      "    Fr\n",
      "   </cal:byday>\n",
      "   <cal:byhour>\n",
      "    19\n",
      "   </cal:byhour>\n",
      "   <cal:byminute>\n",
      "    30\n",
      "   </cal:byminute>\n",
      "   <cal:location>\n",
      "    <vcard:fn>\n",
      "     Theater-Center-Forum\n",
      "    </vcard:fn>\n",
      "    <vcard:street-address>\n",
      "     Porzellangasse 50/\n",
      "    </vcard:street-address>\n",
      "    <vcard:postal-code>\n",
      "     1090\n",
      "    </vcard:postal-code>\n",
      "    <vcard:tel>\n",
      "     +43 1 310 46 46\n",
      "    </vcard:tel>\n",
      "    <vcard:fax/>\n",
      "    <vcard:email/>\n",
      "    <vcard:url/>\n",
      "   </cal:location>\n",
      "   <cal:organizer>\n",
      "    <vcard:fn>\n",
      "     Theater-Center-Forum\n",
      "    </vcard:fn>\n",
      "    <vcard:street-address>\n",
      "     Porzellangasse 50/\n",
      "    </vcard:street-address>\n",
      "    <vcard:postal-code>\n",
      "     1090\n",
      "    </vcard:postal-code>\n",
      "    <vcard:tel>\n",
      "     +43 1 310 46 46\n",
      "    </vcard:tel>\n",
      "    <vcard:fax/>\n",
      "    <vcard:email/>\n",
      "    <vcard:url/>\n",
      "   </cal:organizer>\n",
      "   <vcard:email/>\n",
      "   <georss:point>\n",
      "    2202.18 342826.96\n",
      "   </georss:point>\n",
      "   <dcterms:created>\n",
      "    2023-10-09T09:46:00\n",
      "   </dcterms:created>\n",
      "   <dc:title>\n",
      "    Theater-Center-Forum | Theater-Center-Forum­\n",
      "   </dc:title>\n",
      "   <dc:date>\n",
      "    2023-12-15T19:30:00+00:00\n",
      "   </dc:date>\n",
      "   <dc:relation>\n",
      "    T21:30:00 | Fr\n",
      "   </dc:relation>\n",
      "   <dc:description>\n",
      "    https://www.wien.gv.at/vadb/internet/AdvPrSrv.asp?Layout=ical-vadb&amp;Type=K&amp;ID=498067\n",
      "   </dc:description>\n",
      "   <dcterms:modified>\n",
      "    2023-10-09T10:09:00\n",
      "   </dcterms:modified>\n",
      "   <dc:language>\n",
      "    de-AT\n",
      "   </dc:language>\n",
      "   <dc:rightsHolder>\n",
      "    Stadt Wien\n",
      "   </dc:rightsHolder>\n",
      "   <dc:license>\n",
      "    https://data.wien.gv.at/nutzungsbedingungen\n",
      "   </dc:license>\n",
      "   <dc:creator>\n",
      "    Redaktion Veranstaltungsdatenbank (Magistratsabteilung 55)\n",
      "   </dc:creator>\n",
      "  </item>\n",
      " </channel>\n",
      "</rss>\n"
     ]
    },
    {
     "data": {
      "text/plain": [
       "<title>Veranstaltungen vom 15.11.2023 bis 15.11.2024 im 09. Bezirk</title>"
      ]
     },
     "execution_count": 32,
     "metadata": {},
     "output_type": "execute_result"
    }
   ],
   "source": [
    "import requests\n",
    "from bs4 import BeautifulSoup \n",
    "\n",
    "vienna_events = requests.get(\"https://www.wien.gv.at/vadb/internet/AdvPrSrv.asp?Layout=rss-vadb_neu&Type=R&GANZJAEHRIG=ja&brckat=&WORT2=&hmwd=d&HKAT=&KAT=&UNTKATVON=&SA=&HAUPTKATEGORIEN=74&WORT1=&DATS=E&KATEGORIE_ID=83&suchbegriff=&brckatu=&Bezirk1=09&vie_range-from=15%2E11%2E2023&vie_range-to=15%2E11%2E2024&submit=Los\")\n",
    "soup = BeautifulSoup(vienna_events.content, \"xml\") # lxml muss davor installiert werden\n",
    "print(soup.prettify())#\n",
    "soup.title"
   ]
  },
  {
   "cell_type": "markdown",
   "metadata": {},
   "source": [
    "<h3>4. Kontrollstrukturen </h3>\n",
    "\n",
    "<h4>IF/ELIF/ELSE & LOGISCHE OPERATIONEN</h4>\n",
    "\n",
    " Wir simulieren, ein Szenario, bei dem eine Entscheidung getroffen wird, basierend auf den letzten Interaktionen eines Kunden oder dem Gesamtwert seiner Einkäufe. "
   ]
  },
  {
   "cell_type": "code",
   "execution_count": 33,
   "metadata": {},
   "outputs": [
    {
     "data": {
      "text/html": [
       "<div>\n",
       "<style scoped>\n",
       "    .dataframe tbody tr th:only-of-type {\n",
       "        vertical-align: middle;\n",
       "    }\n",
       "\n",
       "    .dataframe tbody tr th {\n",
       "        vertical-align: top;\n",
       "    }\n",
       "\n",
       "    .dataframe thead th {\n",
       "        text-align: right;\n",
       "    }\n",
       "</style>\n",
       "<table border=\"1\" class=\"dataframe\">\n",
       "  <thead>\n",
       "    <tr style=\"text-align: right;\">\n",
       "      <th></th>\n",
       "      <th>KundenID</th>\n",
       "      <th>Kaufsumme</th>\n",
       "      <th>ZuletztGekauft</th>\n",
       "      <th>Feedback</th>\n",
       "    </tr>\n",
       "  </thead>\n",
       "  <tbody>\n",
       "    <tr>\n",
       "      <th>0</th>\n",
       "      <td>1</td>\n",
       "      <td>650</td>\n",
       "      <td>2021-07-15</td>\n",
       "      <td>positiv</td>\n",
       "    </tr>\n",
       "    <tr>\n",
       "      <th>1</th>\n",
       "      <td>2</td>\n",
       "      <td>80</td>\n",
       "      <td>2023-01-10</td>\n",
       "      <td>neutral</td>\n",
       "    </tr>\n",
       "    <tr>\n",
       "      <th>2</th>\n",
       "      <td>3</td>\n",
       "      <td>150</td>\n",
       "      <td>2022-12-20</td>\n",
       "      <td>negativ</td>\n",
       "    </tr>\n",
       "    <tr>\n",
       "      <th>3</th>\n",
       "      <td>4</td>\n",
       "      <td>720</td>\n",
       "      <td>2023-01-05</td>\n",
       "      <td>positiv</td>\n",
       "    </tr>\n",
       "    <tr>\n",
       "      <th>4</th>\n",
       "      <td>5</td>\n",
       "      <td>50</td>\n",
       "      <td>2023-01-15</td>\n",
       "      <td>neutral</td>\n",
       "    </tr>\n",
       "    <tr>\n",
       "      <th>5</th>\n",
       "      <td>6</td>\n",
       "      <td>300</td>\n",
       "      <td>2022-11-30</td>\n",
       "      <td>positiv</td>\n",
       "    </tr>\n",
       "  </tbody>\n",
       "</table>\n",
       "</div>"
      ],
      "text/plain": [
       "   KundenID  Kaufsumme ZuletztGekauft Feedback\n",
       "0         1        650     2021-07-15  positiv\n",
       "1         2         80     2023-01-10  neutral\n",
       "2         3        150     2022-12-20  negativ\n",
       "3         4        720     2023-01-05  positiv\n",
       "4         5         50     2023-01-15  neutral\n",
       "5         6        300     2022-11-30  positiv"
      ]
     },
     "execution_count": 33,
     "metadata": {},
     "output_type": "execute_result"
    }
   ],
   "source": [
    "customers_df = pd.read_csv(config.input_path.joinpath(\"kundensegmentierung.csv\"), sep=\",\")\n",
    "customers_df"
   ]
  },
  {
   "cell_type": "code",
   "execution_count": 34,
   "metadata": {},
   "outputs": [
    {
     "data": {
      "text/html": [
       "<div>\n",
       "<style scoped>\n",
       "    .dataframe tbody tr th:only-of-type {\n",
       "        vertical-align: middle;\n",
       "    }\n",
       "\n",
       "    .dataframe tbody tr th {\n",
       "        vertical-align: top;\n",
       "    }\n",
       "\n",
       "    .dataframe thead th {\n",
       "        text-align: right;\n",
       "    }\n",
       "</style>\n",
       "<table border=\"1\" class=\"dataframe\">\n",
       "  <thead>\n",
       "    <tr style=\"text-align: right;\">\n",
       "      <th></th>\n",
       "      <th>KundenID</th>\n",
       "      <th>Kaufsumme</th>\n",
       "      <th>ZuletztGekauft</th>\n",
       "      <th>Feedback</th>\n",
       "      <th>Aktion</th>\n",
       "    </tr>\n",
       "  </thead>\n",
       "  <tbody>\n",
       "    <tr>\n",
       "      <th>0</th>\n",
       "      <td>1</td>\n",
       "      <td>650</td>\n",
       "      <td>2021-07-15</td>\n",
       "      <td>positiv</td>\n",
       "      <td>Premium Dankeschön-Paket senden</td>\n",
       "    </tr>\n",
       "    <tr>\n",
       "      <th>1</th>\n",
       "      <td>2</td>\n",
       "      <td>80</td>\n",
       "      <td>2023-01-10</td>\n",
       "      <td>neutral</td>\n",
       "      <td>Feedback-Anfrage senden, um Service zu verbessern</td>\n",
       "    </tr>\n",
       "    <tr>\n",
       "      <th>2</th>\n",
       "      <td>3</td>\n",
       "      <td>150</td>\n",
       "      <td>2022-12-20</td>\n",
       "      <td>negativ</td>\n",
       "      <td>Feedback-Anfrage senden, um Service zu verbessern</td>\n",
       "    </tr>\n",
       "    <tr>\n",
       "      <th>3</th>\n",
       "      <td>4</td>\n",
       "      <td>720</td>\n",
       "      <td>2023-01-05</td>\n",
       "      <td>positiv</td>\n",
       "      <td>Premium Dankeschön-Paket senden</td>\n",
       "    </tr>\n",
       "    <tr>\n",
       "      <th>4</th>\n",
       "      <td>5</td>\n",
       "      <td>50</td>\n",
       "      <td>2023-01-15</td>\n",
       "      <td>neutral</td>\n",
       "      <td>Feedback-Anfrage senden, um Service zu verbessern</td>\n",
       "    </tr>\n",
       "    <tr>\n",
       "      <th>5</th>\n",
       "      <td>6</td>\n",
       "      <td>300</td>\n",
       "      <td>2022-11-30</td>\n",
       "      <td>positiv</td>\n",
       "      <td>Standard Dankeschön-Email senden</td>\n",
       "    </tr>\n",
       "  </tbody>\n",
       "</table>\n",
       "</div>"
      ],
      "text/plain": [
       "   KundenID  Kaufsumme ZuletztGekauft Feedback  \\\n",
       "0         1        650     2021-07-15  positiv   \n",
       "1         2         80     2023-01-10  neutral   \n",
       "2         3        150     2022-12-20  negativ   \n",
       "3         4        720     2023-01-05  positiv   \n",
       "4         5         50     2023-01-15  neutral   \n",
       "5         6        300     2022-11-30  positiv   \n",
       "\n",
       "                                              Aktion  \n",
       "0                    Premium Dankeschön-Paket senden  \n",
       "1  Feedback-Anfrage senden, um Service zu verbessern  \n",
       "2  Feedback-Anfrage senden, um Service zu verbessern  \n",
       "3                    Premium Dankeschön-Paket senden  \n",
       "4  Feedback-Anfrage senden, um Service zu verbessern  \n",
       "5                   Standard Dankeschön-Email senden  "
      ]
     },
     "execution_count": 34,
     "metadata": {},
     "output_type": "execute_result"
    }
   ],
   "source": [
    "customers_action_df_test = customers_df.copy()\n",
    "customers_action_df_test[\"Aktion\"] = \"\"\n",
    "for index, row in customers_action_df_test.iterrows():\n",
    "    # print(index, row, \"\\n\")\n",
    "    if row[\"Kaufsumme\"] > 500 and row[\"Feedback\"] == \"positiv\":\n",
    "        customers_action_df_test.at[index, \"Aktion\"] = \"Premium Dankeschön-Paket senden\"\n",
    "    elif row[\"Kaufsumme\"] < 100 or row[\"Feedback\"] == \"negativ\":\n",
    "        customers_action_df_test.at[index, \"Aktion\"] = \"Feedback-Anfrage senden, um Service zu verbessern\"\n",
    "    else:\n",
    "        customers_action_df_test.at[index, \"Aktion\"] =  \"Standard Dankeschön-Email senden\" \n",
    "\n",
    "customers_action_df_test"
   ]
  },
  {
   "cell_type": "code",
   "execution_count": 35,
   "metadata": {},
   "outputs": [
    {
     "data": {
      "text/html": [
       "<div>\n",
       "<style scoped>\n",
       "    .dataframe tbody tr th:only-of-type {\n",
       "        vertical-align: middle;\n",
       "    }\n",
       "\n",
       "    .dataframe tbody tr th {\n",
       "        vertical-align: top;\n",
       "    }\n",
       "\n",
       "    .dataframe thead th {\n",
       "        text-align: right;\n",
       "    }\n",
       "</style>\n",
       "<table border=\"1\" class=\"dataframe\">\n",
       "  <thead>\n",
       "    <tr style=\"text-align: right;\">\n",
       "      <th></th>\n",
       "      <th>KundenID</th>\n",
       "      <th>Kaufsumme</th>\n",
       "      <th>ZuletztGekauft</th>\n",
       "      <th>Feedback</th>\n",
       "      <th>Aktion</th>\n",
       "    </tr>\n",
       "  </thead>\n",
       "  <tbody>\n",
       "    <tr>\n",
       "      <th>0</th>\n",
       "      <td>1</td>\n",
       "      <td>650</td>\n",
       "      <td>2021-07-15</td>\n",
       "      <td>positiv</td>\n",
       "      <td>Premium Dankeschön-Paket senden</td>\n",
       "    </tr>\n",
       "    <tr>\n",
       "      <th>1</th>\n",
       "      <td>2</td>\n",
       "      <td>80</td>\n",
       "      <td>2023-01-10</td>\n",
       "      <td>neutral</td>\n",
       "      <td>Feedback-Anfrage senden, um Service zu verbessern</td>\n",
       "    </tr>\n",
       "    <tr>\n",
       "      <th>2</th>\n",
       "      <td>3</td>\n",
       "      <td>150</td>\n",
       "      <td>2022-12-20</td>\n",
       "      <td>negativ</td>\n",
       "      <td>Feedback-Anfrage senden, um Service zu verbessern</td>\n",
       "    </tr>\n",
       "    <tr>\n",
       "      <th>3</th>\n",
       "      <td>4</td>\n",
       "      <td>720</td>\n",
       "      <td>2023-01-05</td>\n",
       "      <td>positiv</td>\n",
       "      <td>Premium Dankeschön-Paket senden</td>\n",
       "    </tr>\n",
       "    <tr>\n",
       "      <th>4</th>\n",
       "      <td>5</td>\n",
       "      <td>50</td>\n",
       "      <td>2023-01-15</td>\n",
       "      <td>neutral</td>\n",
       "      <td>Feedback-Anfrage senden, um Service zu verbessern</td>\n",
       "    </tr>\n",
       "    <tr>\n",
       "      <th>5</th>\n",
       "      <td>6</td>\n",
       "      <td>300</td>\n",
       "      <td>2022-11-30</td>\n",
       "      <td>positiv</td>\n",
       "      <td>Standard Dankeschön-Email senden</td>\n",
       "    </tr>\n",
       "  </tbody>\n",
       "</table>\n",
       "</div>"
      ],
      "text/plain": [
       "   KundenID  Kaufsumme ZuletztGekauft Feedback  \\\n",
       "0         1        650     2021-07-15  positiv   \n",
       "1         2         80     2023-01-10  neutral   \n",
       "2         3        150     2022-12-20  negativ   \n",
       "3         4        720     2023-01-05  positiv   \n",
       "4         5         50     2023-01-15  neutral   \n",
       "5         6        300     2022-11-30  positiv   \n",
       "\n",
       "                                              Aktion  \n",
       "0                    Premium Dankeschön-Paket senden  \n",
       "1  Feedback-Anfrage senden, um Service zu verbessern  \n",
       "2  Feedback-Anfrage senden, um Service zu verbessern  \n",
       "3                    Premium Dankeschön-Paket senden  \n",
       "4  Feedback-Anfrage senden, um Service zu verbessern  \n",
       "5                   Standard Dankeschön-Email senden  "
      ]
     },
     "execution_count": 35,
     "metadata": {},
     "output_type": "execute_result"
    }
   ],
   "source": [
    "def decide_action(customer) -> str:\n",
    "    if customer[\"Kaufsumme\"] > 500 and customer[\"Feedback\"] == \"positiv\":\n",
    "        return \"Premium Dankeschön-Paket senden\"\n",
    "    elif customer[\"Kaufsumme\"] < 100 or customer[\"Feedback\"] == \"negativ\":\n",
    "        return \"Feedback-Anfrage senden, um Service zu verbessern\"\n",
    "    else:\n",
    "        return \"Standard Dankeschön-Email senden\"\n",
    "\n",
    "customers_action_df = customers_df.copy()\n",
    "customers_action_df[\"Aktion\"] = customers_action_df.apply(decide_action, axis=1)\n",
    "customers_action_df"
   ]
  },
  {
   "cell_type": "code",
   "execution_count": 36,
   "metadata": {},
   "outputs": [
    {
     "data": {
      "text/html": [
       "<div>\n",
       "<style scoped>\n",
       "    .dataframe tbody tr th:only-of-type {\n",
       "        vertical-align: middle;\n",
       "    }\n",
       "\n",
       "    .dataframe tbody tr th {\n",
       "        vertical-align: top;\n",
       "    }\n",
       "\n",
       "    .dataframe thead th {\n",
       "        text-align: right;\n",
       "    }\n",
       "</style>\n",
       "<table border=\"1\" class=\"dataframe\">\n",
       "  <thead>\n",
       "    <tr style=\"text-align: right;\">\n",
       "      <th></th>\n",
       "      <th>KundenID</th>\n",
       "      <th>Kaufsumme</th>\n",
       "      <th>ZuletztGekauft</th>\n",
       "      <th>Feedback</th>\n",
       "      <th>Aktion</th>\n",
       "    </tr>\n",
       "  </thead>\n",
       "  <tbody>\n",
       "    <tr>\n",
       "      <th>0</th>\n",
       "      <td>1</td>\n",
       "      <td>650</td>\n",
       "      <td>2021-07-15</td>\n",
       "      <td>positiv</td>\n",
       "      <td>Premium Dankeschön-Paket senden</td>\n",
       "    </tr>\n",
       "    <tr>\n",
       "      <th>1</th>\n",
       "      <td>2</td>\n",
       "      <td>80</td>\n",
       "      <td>2023-01-10</td>\n",
       "      <td>neutral</td>\n",
       "      <td>Feedback-Anfrage senden, um Service zu verbessern</td>\n",
       "    </tr>\n",
       "    <tr>\n",
       "      <th>2</th>\n",
       "      <td>3</td>\n",
       "      <td>150</td>\n",
       "      <td>2022-12-20</td>\n",
       "      <td>negativ</td>\n",
       "      <td>Feedback-Anfrage senden, um Service zu verbessern</td>\n",
       "    </tr>\n",
       "    <tr>\n",
       "      <th>3</th>\n",
       "      <td>4</td>\n",
       "      <td>720</td>\n",
       "      <td>2023-01-05</td>\n",
       "      <td>positiv</td>\n",
       "      <td>Premium Dankeschön-Paket senden</td>\n",
       "    </tr>\n",
       "    <tr>\n",
       "      <th>4</th>\n",
       "      <td>5</td>\n",
       "      <td>50</td>\n",
       "      <td>2023-01-15</td>\n",
       "      <td>neutral</td>\n",
       "      <td>Feedback-Anfrage senden, um Service zu verbessern</td>\n",
       "    </tr>\n",
       "    <tr>\n",
       "      <th>5</th>\n",
       "      <td>6</td>\n",
       "      <td>300</td>\n",
       "      <td>2022-11-30</td>\n",
       "      <td>positiv</td>\n",
       "      <td>Standard Dankeschön-Email senden</td>\n",
       "    </tr>\n",
       "  </tbody>\n",
       "</table>\n",
       "</div>"
      ],
      "text/plain": [
       "   KundenID  Kaufsumme ZuletztGekauft Feedback  \\\n",
       "0         1        650     2021-07-15  positiv   \n",
       "1         2         80     2023-01-10  neutral   \n",
       "2         3        150     2022-12-20  negativ   \n",
       "3         4        720     2023-01-05  positiv   \n",
       "4         5         50     2023-01-15  neutral   \n",
       "5         6        300     2022-11-30  positiv   \n",
       "\n",
       "                                              Aktion  \n",
       "0                    Premium Dankeschön-Paket senden  \n",
       "1  Feedback-Anfrage senden, um Service zu verbessern  \n",
       "2  Feedback-Anfrage senden, um Service zu verbessern  \n",
       "3                    Premium Dankeschön-Paket senden  \n",
       "4  Feedback-Anfrage senden, um Service zu verbessern  \n",
       "5                   Standard Dankeschön-Email senden  "
      ]
     },
     "execution_count": 36,
     "metadata": {},
     "output_type": "execute_result"
    }
   ],
   "source": [
    "# ALTERNATIV - LAMBDA\n",
    "\n",
    "customers_actions_df2 = customers_df.copy()\n",
    "customers_actions_df2[\"Aktion\"] = customers_actions_df2.apply(lambda row: decide_action(row), axis=1)\n",
    "\n",
    "customers_actions_df2\n",
    "    "
   ]
  },
  {
   "cell_type": "markdown",
   "metadata": {},
   "source": [
    "<h3>SCHLEIFEN & METHODEN</h3>\n",
    "\n",
    "> <span style='font-size:28px;'>&#128073;</span> <a href=\"https://archive.ics.uci.edu/dataset/352/online+retail\"> ONLINE RETAIL DATASET </a>"
   ]
  },
  {
   "cell_type": "code",
   "execution_count": 37,
   "metadata": {},
   "outputs": [
    {
     "data": {
      "text/html": [
       "<div>\n",
       "<style scoped>\n",
       "    .dataframe tbody tr th:only-of-type {\n",
       "        vertical-align: middle;\n",
       "    }\n",
       "\n",
       "    .dataframe tbody tr th {\n",
       "        vertical-align: top;\n",
       "    }\n",
       "\n",
       "    .dataframe thead th {\n",
       "        text-align: right;\n",
       "    }\n",
       "</style>\n",
       "<table border=\"1\" class=\"dataframe\">\n",
       "  <thead>\n",
       "    <tr style=\"text-align: right;\">\n",
       "      <th></th>\n",
       "      <th>InvoiceNo</th>\n",
       "      <th>StockCode</th>\n",
       "      <th>Description</th>\n",
       "      <th>Quantity</th>\n",
       "      <th>InvoiceDate</th>\n",
       "      <th>UnitPrice</th>\n",
       "      <th>CustomerID</th>\n",
       "      <th>Country</th>\n",
       "    </tr>\n",
       "  </thead>\n",
       "  <tbody>\n",
       "    <tr>\n",
       "      <th>0</th>\n",
       "      <td>536365</td>\n",
       "      <td>85123A</td>\n",
       "      <td>WHITE HANGING HEART T-LIGHT HOLDER</td>\n",
       "      <td>6</td>\n",
       "      <td>2010-12-01 08:26:00</td>\n",
       "      <td>2.55</td>\n",
       "      <td>17850.0</td>\n",
       "      <td>United Kingdom</td>\n",
       "    </tr>\n",
       "    <tr>\n",
       "      <th>1</th>\n",
       "      <td>536365</td>\n",
       "      <td>71053</td>\n",
       "      <td>WHITE METAL LANTERN</td>\n",
       "      <td>6</td>\n",
       "      <td>2010-12-01 08:26:00</td>\n",
       "      <td>3.39</td>\n",
       "      <td>17850.0</td>\n",
       "      <td>United Kingdom</td>\n",
       "    </tr>\n",
       "    <tr>\n",
       "      <th>2</th>\n",
       "      <td>536365</td>\n",
       "      <td>84406B</td>\n",
       "      <td>CREAM CUPID HEARTS COAT HANGER</td>\n",
       "      <td>8</td>\n",
       "      <td>2010-12-01 08:26:00</td>\n",
       "      <td>2.75</td>\n",
       "      <td>17850.0</td>\n",
       "      <td>United Kingdom</td>\n",
       "    </tr>\n",
       "    <tr>\n",
       "      <th>3</th>\n",
       "      <td>536365</td>\n",
       "      <td>84029G</td>\n",
       "      <td>KNITTED UNION FLAG HOT WATER BOTTLE</td>\n",
       "      <td>6</td>\n",
       "      <td>2010-12-01 08:26:00</td>\n",
       "      <td>3.39</td>\n",
       "      <td>17850.0</td>\n",
       "      <td>United Kingdom</td>\n",
       "    </tr>\n",
       "    <tr>\n",
       "      <th>4</th>\n",
       "      <td>536365</td>\n",
       "      <td>84029E</td>\n",
       "      <td>RED WOOLLY HOTTIE WHITE HEART.</td>\n",
       "      <td>6</td>\n",
       "      <td>2010-12-01 08:26:00</td>\n",
       "      <td>3.39</td>\n",
       "      <td>17850.0</td>\n",
       "      <td>United Kingdom</td>\n",
       "    </tr>\n",
       "  </tbody>\n",
       "</table>\n",
       "</div>"
      ],
      "text/plain": [
       "  InvoiceNo StockCode                          Description  Quantity  \\\n",
       "0    536365    85123A   WHITE HANGING HEART T-LIGHT HOLDER         6   \n",
       "1    536365     71053                  WHITE METAL LANTERN         6   \n",
       "2    536365    84406B       CREAM CUPID HEARTS COAT HANGER         8   \n",
       "3    536365    84029G  KNITTED UNION FLAG HOT WATER BOTTLE         6   \n",
       "4    536365    84029E       RED WOOLLY HOTTIE WHITE HEART.         6   \n",
       "\n",
       "          InvoiceDate  UnitPrice  CustomerID         Country  \n",
       "0 2010-12-01 08:26:00       2.55     17850.0  United Kingdom  \n",
       "1 2010-12-01 08:26:00       3.39     17850.0  United Kingdom  \n",
       "2 2010-12-01 08:26:00       2.75     17850.0  United Kingdom  \n",
       "3 2010-12-01 08:26:00       3.39     17850.0  United Kingdom  \n",
       "4 2010-12-01 08:26:00       3.39     17850.0  United Kingdom  "
      ]
     },
     "execution_count": 37,
     "metadata": {},
     "output_type": "execute_result"
    }
   ],
   "source": [
    "online_retail_df = pd.read_excel(config.input_path.joinpath(\"Online_Retail.xlsx\"))\n",
    "online_retail_df.head()\n",
    "# online_retail_df.Quantity.max()"
   ]
  },
  {
   "cell_type": "code",
   "execution_count": 38,
   "metadata": {},
   "outputs": [
    {
     "name": "stdout",
     "output_type": "stream",
     "text": [
      "VIP-Kunden: [15061.0, 16029.0, 17511.0, 18102.0]\n",
      "Höchster Einzelpreis: 16888.02\n",
      "Niedrigster Einzelpreis: 0.0\n",
      "Anzahl unterschiedlicher Produkte: 2871\n",
      "Bestseller-Produktcode: 84077 mit 5820 verkauften Einheiten.\n"
     ]
    }
   ],
   "source": [
    "retail_df = online_retail_df.copy().reset_index(drop=True)\n",
    "\n",
    "retail_df[\"TotalSpent\"] = retail_df[\"Quantity\"] * retail_df[\"UnitPrice\"]\n",
    "\n",
    "# Vektorisierte Operationen in Pandas für Geschwindigkeit und Effizienz:\n",
    "vip_status = retail_df.groupby('CustomerID')['TotalSpent'].sum() > 10000\n",
    "# print(vip_status)\n",
    "vip_customers = vip_status[vip_status].index.tolist()\n",
    "\n",
    "print(f\"VIP-Kunden: {vip_customers}\")\n",
    "\n",
    "max_preis = retail_df['UnitPrice'].max()\n",
    "min_preis = retail_df['UnitPrice'].min()\n",
    "produkt_anzahl = len(retail_df['StockCode'].unique())\n",
    "\n",
    "print(f\"Höchster Einzelpreis: {max_preis}\")\n",
    "print(f\"Niedrigster Einzelpreis: {min_preis}\")\n",
    "print(f\"Anzahl unterschiedlicher Produkte: {produkt_anzahl}\")\n",
    "\n",
    "\n",
    "# List Comprehension für komplexere Transformation:\n",
    "bestseller = max([(quantity, code) for code, quantity in retail_df.groupby('StockCode')['Quantity'].sum().items()])\n",
    "\n",
    "print(f\"Bestseller-Produktcode: {bestseller[1]} mit {bestseller[0]} verkauften Einheiten.\")"
   ]
  },
  {
   "cell_type": "markdown",
   "metadata": {},
   "source": [
    "<hr>\n",
    "<hr>\n",
    "\n",
    "<h3> AUFGABE. ANALYSE VON VERKAUFSDATEN </h3>\n",
    "\n",
    "**Szenario:** \n",
    "Sie sind Data Scientist bei einem internationalen Technologieunternehmen. Sie haben Zugriff auf die Verkaufsdaten verschiedener Produkte in verschiedenen Regionen."
   ]
  },
  {
   "cell_type": "code",
   "execution_count": 39,
   "metadata": {},
   "outputs": [
    {
     "name": "stdout",
     "output_type": "stream",
     "text": [
      "[{'Produkt': 'Laptop', 'Region': 'Europa', 'Verkauft': 450}, {'Produkt': 'Smartphone', 'Region': 'USA', 'Verkauft': 800}, {'Produkt': 'Tablet', 'Region': 'Asien', 'Verkauft': 650}, {'Produkt': 'Laptop', 'Region': 'USA', 'Verkauft': 300}, {'Produkt': 'Smartphone', 'Region': 'Europa', 'Verkauft': 700}, {'Produkt': 'Tablet', 'Region': 'USA', 'Verkauft': 400}]\n"
     ]
    }
   ],
   "source": [
    "import json\n",
    "verkaufsdaten = [ \n",
    "{\"Produkt\": \"Laptop\", \"Region\": \"Europa\", \"Verkauft\": 450}, {\"Produkt\": \"Smartphone\", \"Region\": \"USA\", \"Verkauft\": 800}, {\"Produkt\": \"Tablet\", \"Region\": \"Asien\", \"Verkauft\": 650}, {\"Produkt\": \"Laptop\", \"Region\": \"USA\", \"Verkauft\": 300}, {\"Produkt\": \"Smartphone\", \"Region\": \"Europa\", \"Verkauft\": 700}, {\"Produkt\": \"Tablet\", \"Region\": \"USA\", \"Verkauft\": 400}, \n",
    "]\n",
    "print(verkaufsdaten)"
   ]
  },
  {
   "cell_type": "markdown",
   "metadata": {},
   "source": [
    "**1.** Ermitteln Sie das Produkt, das in Europa am meisten verkauft wurde."
   ]
  },
  {
   "cell_type": "code",
   "execution_count": 40,
   "metadata": {},
   "outputs": [
    {
     "name": "stdout",
     "output_type": "stream",
     "text": [
      "Das Produkt mit den meisten Verkäufen in Europa ist Smartphone mit 700 verkauften Einheiten.\n"
     ]
    }
   ],
   "source": [
    "eu_products = [v_dict for v_dict in verkaufsdaten if v_dict[\"Region\"] == \"Europa\"]\n",
    "\n",
    "verkauft = 0\n",
    "for eu_prod in eu_products:\n",
    "    if verkauft < eu_prod[\"Verkauft\"]:\n",
    "        verkauft = eu_prod[\"Verkauft\"]\n",
    "        product = eu_prod[\"Produkt\"]\n",
    "print(f\"Das Produkt mit den meisten Verkäufen in Europa ist {product} mit {verkauft} verkauften Einheiten.\")\n",
    "\n"
   ]
  },
  {
   "cell_type": "markdown",
   "metadata": {},
   "source": [
    "**2.** Ermitteln Sie die Gesamtverkäufe von Smartphones in allen Regionen."
   ]
  },
  {
   "cell_type": "code",
   "execution_count": 41,
   "metadata": {},
   "outputs": [
    {
     "name": "stdout",
     "output_type": "stream",
     "text": [
      "Gesamtverkauf von Smartphones in allen Regionen beträgt 1500\n"
     ]
    }
   ],
   "source": [
    "summe_smartphone =sum([v_dict[\"Verkauft\"] for v_dict in verkaufsdaten  if v_dict[\"Produkt\"] == \"Smartphone\"])\n",
    "print(f\"Gesamtverkauf von Smartphones in allen Regionen beträgt {summe_smartphone}\")"
   ]
  },
  {
   "cell_type": "markdown",
   "metadata": {},
   "source": [
    "**3.** Finden Sie heraus, welche Region die meisten Tablets verkauft hat."
   ]
  },
  {
   "cell_type": "code",
   "execution_count": 42,
   "metadata": {},
   "outputs": [
    {
     "name": "stdout",
     "output_type": "stream",
     "text": [
      "Asien ist die Region, die die meisten Tablets verkauft hat\n"
     ]
    }
   ],
   "source": [
    "tablet_region = [ {v_dict[\"Region\"]: v_dict[\"Verkauft\"]} for v_dict in verkaufsdaten if v_dict[\"Produkt\"] == \"Tablet\"]\n",
    "max_purchase = max([value for t_dict in tablet_region for key, value in t_dict.items()])\n",
    "region = [key for region in tablet_region for key, value in region.items() if value == max_purchase][0]\n",
    "print(f\"{region} ist die Region, die die meisten Tablets verkauft hat\")\n"
   ]
  },
  {
   "cell_type": "markdown",
   "metadata": {},
   "source": [
    "**4.** Geben Sie eine Liste von Produkten aus, die weniger als 500 Einheiten verkauft haben."
   ]
  },
  {
   "cell_type": "code",
   "execution_count": 43,
   "metadata": {},
   "outputs": [
    {
     "name": "stdout",
     "output_type": "stream",
     "text": [
      "Produkte, die weniger als 500 Einheiten verkauft haben: Laptop,Tablet\n"
     ]
    }
   ],
   "source": [
    "product_list_less_than_500 = list(set(v_dict[\"Produkt\"] for v_dict in verkaufsdaten if v_dict[\"Verkauft\"] < 500))\n",
    "product_list_less_than_500\n",
    "\n",
    "# Die Methode string join() gibt eine Zeichenkette zurück, indem sie alle Elemente einer Iterablen (Liste, String, Tupel),\n",
    "# getrennt durch das angegebene Trennzeichen, zusammenfügt.\n",
    "print(f\"Produkte, die weniger als 500 Einheiten verkauft haben: {','.join(product_list_less_than_500)}\")"
   ]
  },
  {
   "cell_type": "markdown",
   "metadata": {},
   "source": [
    "<hr>\n",
    "<hr>\n",
    "\n",
    "<h3> FUNKTIONEN UND KLASSEN </h3>"
   ]
  },
  {
   "cell_type": "markdown",
   "metadata": {},
   "source": [
    "<h4>Instanzvariablen vs. Klassenvariablen</h4>\n",
    "\n",
    "<ol>\n",
    "<li><b>Instanzvariablen </b> sind spezifisch für jede Instanz einer Klasse. Jedes Objekt einer Klasse hat seine eigenen Kopien dieser Variablen. Veränderungen an einer Instanzvariablen in einem Objekt beeinflussen nicht die entsprechende Variable in einem anderen Objekt derselben Klasse. In Ihrem OmdbApiHandler Beispiel ist self.config eine Instanzvariable. Jedes Objekt der OmdbApiHandler Klasse hat seine eigene Config Instanz, die es unabhängig von anderen OmdbApiHandler Objekten verwendet.</li>\n",
    "    \n",
    "<li><b>Klassenvariablen </b> werden auf Klassenebene definiert und sind für alle Instanzen der Klasse gleich. Sie sind quasi global innerhalb der Klasse. Änderungen an einer Klassenvariablen wirken sich auf alle Instanzen der Klasse aus.</li>\n",
    "</ol>s.us."
   ]
  },
  {
   "cell_type": "markdown",
   "metadata": {},
   "source": [
    "**Beispiel mit Config als Instanzvariable**\n",
    "\n",
    " Jedes Buch-Objekt hat sein eigenes Lesezeichen. Änderungen an einem Lesezeichen eines Buches haben keinen Einfluss auf das Lesezeichen eines anderen Buches."
   ]
  },
  {
   "cell_type": "code",
   "execution_count": 44,
   "metadata": {},
   "outputs": [
    {
     "name": "stdout",
     "output_type": "stream",
     "text": [
      "buch1 -> 100\n",
      "buch2 -> 1\n"
     ]
    }
   ],
   "source": [
    "class Buch:\n",
    "    def __init__(self):\n",
    "        self.lesezeichen = Lesezeichen()  # Jedes Buch hat sein eigenes Lesezeichen\n",
    "\n",
    "class Lesezeichen:\n",
    "    def __init__(self):\n",
    "        self.seite = 1\n",
    "\n",
    "# Erstellen von zwei Büchern\n",
    "buch1 = Buch()\n",
    "buch2 = Buch()\n",
    "\n",
    "# Ändern des Lesezeichens in buch1\n",
    "buch1.lesezeichen.seite = 100\n",
    "\n",
    "print(f\"buch1 -> {buch1.lesezeichen.seite}\")  # Gibt 100 aus\n",
    "print(f\"buch2 -> {buch2.lesezeichen.seite}\")  # Gibt 1 aus\n"
   ]
  },
  {
   "cell_type": "markdown",
   "metadata": {},
   "source": [
    "**Beispiel mit Config als Klassenvariable**\n",
    "\n",
    "Es nur ein Lesezeichen, das von allen Buch-Instanzen geteilt wird. Eine Änderung an diesem Lesezeichen betrifft alle Bücher, unabhängig davon, durch welche Instanz sie geändert wird."
   ]
  },
  {
   "cell_type": "code",
   "execution_count": 45,
   "metadata": {},
   "outputs": [
    {
     "name": "stdout",
     "output_type": "stream",
     "text": [
      "buch1 -> 1\n",
      "buch2 -> 1\n"
     ]
    }
   ],
   "source": [
    "class Buch:\n",
    "    lesezeichen = Lesezeichen()  # Ein gemeinsames Lesezeichen für alle Bücher\n",
    "\n",
    "class Lesezeichen:\n",
    "    def __init__(self):\n",
    "        self.seite = 1\n",
    "\n",
    "# Erstellen von zwei Büchern\n",
    "buch1 = Buch()\n",
    "buch2 = Buch()\n",
    "\n",
    "# Ändern des Lesezeichens durch die Instanz buch1\n",
    "buch1.lesezeichen.seite = 100\n",
    "buch2.lesezeichen.seite = 1\n",
    "\n",
    "\n",
    "print(f\"buch1 -> {buch1.lesezeichen.seite}\")  # Gibt 1 aus\n",
    "print(f\"buch2 -> {buch2.lesezeichen.seite}\")  # Gibt 1 aus\n",
    "\n"
   ]
  },
  {
   "cell_type": "markdown",
   "metadata": {},
   "source": [
    "<span style=\"font-size:28px;\">&#128161;\n",
    "> **Instanzvariable** Jede Instanz der Klasse hat ihre eigenen unabhängigen Daten. Änderungen an einer Instanz haben keine Auswirkungen auf andere Instanzen.\n",
    "\n",
    "> **Klassenvariable:** Alle Instanzen teilen sich dieselben Daten. Eine Änderung an den Daten durch irgendeine Instanz der Klasse beeinflusst alle anderen Instanzen. </span>"
   ]
  },
  {
   "cell_type": "markdown",
   "metadata": {},
   "source": [
    "<h4>Decorators</h4>\n",
    "\n",
    "<p style=\"color:orange\">@dataclass</p>\n",
    "Der @dataclass Decorator wird verwendet, um Klassen zu vereinfachen, die hauptsächlich dazu dienen, Daten zu speichern. Es erspart Ihnen das Schreiben von boilerplate Code wie __init__, __repr__, und __eq__.\n",
    "\n",
    "> Boilerplate-Code bezieht sich auf Abschnitte des Codes, die immer wieder in ähnlicher oder identischer Form auftreten, ohne spezifisch für die Funktionalität zu sein. Das sind wiederholte Codeblöcke, die notwendig sind, aber keinen direkten Beitrag zur Geschäftslogik leisten. Ein Beispiel dafür ist der wiederholte Code für die Initialisierung von Objekten in Klassen ohne den @dataclass-Decorator.\n",
    "\n",
    "<p style=\"color:orange\">@staticmethod</p>\n",
    "\n",
    "Ermöglicht das Definieren von Methoden, die keinen Zugriff auf die Instanz (self) oder die Klasse benötigen. Sie sind im Wesentlichen wie normale Funktionen, gehören aber zum Namensraum der Klasse.\n",
    "Wiederverwendbarkeit und Organisation: Hilft dabei, Funktionen, die logisch zur Klasse gehören, aber keine Klassen- oder Instanzdaten benötigen, innerhalb des Klassenkontexts zu organisieren\n",
    "\n",
    "> Decorators sind in Python ein mächtiges Werkzeug, um den Code effizienter, sauberer und leichter wartbar zu gestalten. Sie ermöglichen es, zusätzliche Funktionalitäten zu Klassen und Funktionen hinzuzufügen, ohne deren ursprünglichen Code zu verändern.."
   ]
  },
  {
   "cell_type": "code",
   "execution_count": 1,
   "metadata": {
    "ExecuteTime": {
     "end_time": "2023-12-17T16:33:06.411456500Z",
     "start_time": "2023-12-17T16:33:06.386571Z"
    }
   },
   "outputs": [
    {
     "data": {
      "text/plain": "'http://www.omdbapi.com/'"
     },
     "execution_count": 1,
     "metadata": {},
     "output_type": "execute_result"
    }
   ],
   "source": [
    "import os\n",
    "from dataclasses import dataclass\n",
    "from dotenv import load_dotenv\n",
    "from pathlib import Path\n",
    "\n",
    "@dataclass\n",
    "class Config:\n",
    "\n",
    "    api_url: str = \"http://www.omdbapi.com/\"\n",
    "    # juypter unterstützt __file__ nicht\n",
    "    project_path: Path = Path().resolve()\n",
    "    input_path: Path = project_path.joinpath(\"input\")\n",
    "    load_dotenv(project_path.joinpath(\".env\"))\n",
    "    api_key: str = os.getenv(\"API_KEY\")\n",
    "\n",
    "config = Config()\n",
    "config.api_url"
   ]
  }
 ],
 "metadata": {
  "kernelspec": {
   "display_name": "Python 3 (ipykernel)",
   "language": "python",
   "name": "python3"
  },
  "language_info": {
   "codemirror_mode": {
    "name": "ipython",
    "version": 3
   },
   "file_extension": ".py",
   "mimetype": "text/x-python",
   "name": "python",
   "nbconvert_exporter": "python",
   "pygments_lexer": "ipython3",
   "version": "3.11.3"
  }
 },
 "nbformat": 4,
 "nbformat_minor": 4
}
